{
 "cells": [
  {
   "cell_type": "code",
   "execution_count": 1,
   "id": "c00c873f",
   "metadata": {},
   "outputs": [
    {
     "name": "stdout",
     "output_type": "stream",
     "text": [
      "hi\n"
     ]
    }
   ],
   "source": [
    "print('hi')"
   ]
  },
  {
   "cell_type": "code",
   "execution_count": 7,
   "id": "894f3bed",
   "metadata": {},
   "outputs": [],
   "source": [
    "import sys\n",
    "sys.path.append('/workspaces/humsafar-financial-ai-assistant')"
   ]
  },
  {
   "cell_type": "code",
   "execution_count": null,
   "id": "142b0ca9",
   "metadata": {},
   "outputs": [],
   "source": [
    "from humsafar_financial_ai import FIMCPDataAccess, get_net_worth, get_bank_transactions, get_mutual_fund_transactions, get_stock_transactions, get_epf_details, get_credit_report, get_complete_profile, analyze_user_financial_health, get_available_users"
   ]
  },
  {
   "cell_type": "code",
   "execution_count": 31,
   "id": "21628316",
   "metadata": {},
   "outputs": [],
   "source": [
    "list_user=get_available_users()"
   ]
  },
  {
   "cell_type": "code",
   "execution_count": null,
   "id": "94cfd275",
   "metadata": {},
   "outputs": [
    {
     "data": {
      "text/plain": [
       "{'schemaDescription': \"A list of bank transactions. Each 'txns' field is a list of data arrays with schema: [transactionAmount, transactionNarration, transactionDate, transactionType (1 for CREDIT, 2 for DEBIT, 3 for OPENING, 4 for INTEREST, 5 for TDS, 6 for INSTALLMENT, 7 for CLOSING and 8 for OTHERS), transactionMode, currentBalance].\\n We currently have have only last two month transaction, older transaction are coming soon...\",\n",
       " 'bankTransactions': [{'bank': 'Punjab National Bank',\n",
       "   'txns': [['2500',\n",
       "     'UPI-MOM-9876543210@YBL-PAYMENT FROM MOM',\n",
       "     '2024-07-02',\n",
       "     1,\n",
       "     'FT',\n",
       "     '16500'],\n",
       "    ['150',\n",
       "     'UPI-RECHARGE-AIRTELPREPAID@AXIS-MOBILE RECHARGE',\n",
       "     '2024-07-04',\n",
       "     2,\n",
       "     'OTHERS',\n",
       "     '16350'],\n",
       "    ['280',\n",
       "     'UPI-SWIGGY-SWIGGY@YBL-FOOD ORDER',\n",
       "     '2024-07-07',\n",
       "     2,\n",
       "     'OTHERS',\n",
       "     '16070'],\n",
       "    ['1000',\n",
       "     'CASH WDL-P1A01234-PNB ATM-DELHI',\n",
       "     '2024-07-10',\n",
       "     2,\n",
       "     'ATM',\n",
       "     '15070'],\n",
       "    ['1500', 'IMPS-RAHUL-HELP', '2024-07-15', 1, 'FT', '16570'],\n",
       "    ['3000',\n",
       "     'UPI-PAYMENT RECEIVED-CLIENT WORK-REF88776',\n",
       "     '2024-07-20',\n",
       "     1,\n",
       "     'OTHERS',\n",
       "     '19570'],\n",
       "    ['850',\n",
       "     'UPI-SIMPL-SIMPL@AXISBANK-REPAYMENT',\n",
       "     '2024-07-25',\n",
       "     2,\n",
       "     'CARD_PAYMENT',\n",
       "     '18720'],\n",
       "    ['2000', 'BY CASH DEPOSIT-SELF-CDM', '2024-06-03', 1, 'CASH', '9500'],\n",
       "    ['5000',\n",
       "     'UPI-AMIT SHARMA-AMITSHARMA@OKICICI-JUNE RENT SHARE',\n",
       "     '2024-06-05',\n",
       "     2,\n",
       "     'FT',\n",
       "     '4500'],\n",
       "    ['3000',\n",
       "     'UPI-DAD-9988776655@PAYTM-FOR EXPENSES',\n",
       "     '2024-06-10',\n",
       "     1,\n",
       "     'FT',\n",
       "     '7500'],\n",
       "    ['310', 'UPI-ZOMATO-ZOMATO@YBL-LUNCH', '2024-06-15', 2, 'OTHERS', '7190'],\n",
       "    ['120',\n",
       "     'UPI-DMRC-METRO CARD RECHARGE@PAYTM',\n",
       "     '2024-06-22',\n",
       "     2,\n",
       "     'OTHERS',\n",
       "     '7070'],\n",
       "    ['500',\n",
       "     'CASH WDL-P1A05678-PNB ATM-DELHI',\n",
       "     '2024-06-28',\n",
       "     2,\n",
       "     'ATM',\n",
       "     '6570']]}]}"
      ]
     },
     "execution_count": 82,
     "metadata": {},
     "output_type": "execute_result"
    }
   ],
   "source": [
    "get_bank_transactions(list_user[0])\n",
    "\n",
    "# for each of the bank \n",
    "# need parse the each transaction and get the details\n",
    "# example:  UPI-RECHARGE-AIRTELPREPAID@AXIS-MOBILE RECHARGE -> bill and payment \n",
    "# example:  UPI-SWIGGY-SWIGGY@YBL-FOOD ORDER -> food and dining\n",
    "# this help in budgeting and financial health analysis\n"
   ]
  },
  {
   "cell_type": "code",
   "execution_count": 71,
   "id": "107f8cae",
   "metadata": {},
   "outputs": [
    {
     "data": {
      "text/plain": [
       "{'mfTransactions': [{'isin': 'INF179KB1HS3',\n",
       "   'schemeName': 'Nippon India Corporate Bond Fund - Direct Growth',\n",
       "   'folioId': '2002011001',\n",
       "   'txns': [[1, '2022-04-01', 18.5, 432.4324, 8000],\n",
       "    [1, '2022-05-01', 18.56, 430.8937, 8000],\n",
       "    [1, '2022-06-01', 18.63, 429.3672, 8000],\n",
       "    [1, '2022-09-15', 18.92, 529.1001, 10000],\n",
       "    [1, '2023-03-01', 19.25, 415.5844, 8000],\n",
       "    [1, '2023-05-15', 19.65, 509.5541, 10000]]},\n",
       "  {'isin': 'INF174V01BL6',\n",
       "   'schemeName': 'Axis Treasury Advantage Fund - Direct Growth',\n",
       "   'folioId': '2002011001',\n",
       "   'txns': [[1, '2022-07-01', 118.0, 84.7458, 10000],\n",
       "    [1, '2022-08-01', 118.45, 84.3922, 10000],\n",
       "    [1, '2022-09-01', 118.85, 84.1285, 10000],\n",
       "    [1, '2023-01-10', 120.55, 124.2775, 15000]]},\n",
       "  {'isin': 'INF209K01YY1',\n",
       "   'schemeName': 'UTI Money Market Fund - Direct Growth',\n",
       "   'folioId': '2002011001',\n",
       "   'txns': [[1, '2023-01-01', 3150.0, 4.7619, 15000],\n",
       "    [1, '2023-01-31', 3162.6, 4.7424, 15000],\n",
       "    [1, '2023-02-28', 3175.0, 4.7263, 15000],\n",
       "    [1, '2023-03-30', 3182.0, 4.7166, 15000]]},\n",
       "  {'isin': 'INF204KB17I9',\n",
       "   'schemeName': 'HDFC Gold ETF',\n",
       "   'folioId': '2003910001',\n",
       "   'txns': [[1, '2023-02-01', 50.0, 100.0, 5000],\n",
       "    [1, '2023-05-02', 50.5, 99.0099, 5000],\n",
       "    [1, '2024-01-10', 55.0, 90.9091, 5000]]}],\n",
       " 'schemaDescription': \"A list of mutual fund investments. Each 'txns' field is a list of data arrays with schema: [ orderType (1 for BUY and 2 for SELL), transactionDate, purchasePrice, purchaseUnits, transactionAmount ].\"}"
      ]
     },
     "execution_count": 71,
     "metadata": {},
     "output_type": "execute_result"
    }
   ],
   "source": [
    "get_mutual_fund_transactions(list_user[1])"
   ]
  },
  {
   "cell_type": "code",
   "execution_count": 83,
   "id": "ad0503db",
   "metadata": {},
   "outputs": [
    {
     "data": {
      "text/plain": [
       "[{'isin': 'INF179KB1HS3',\n",
       "  'schemeName': 'Nippon India Corporate Bond Fund - Direct Growth',\n",
       "  'folioId': '2002011001',\n",
       "  'txns': [[1, '2022-04-01', 18.5, 432.4324, 8000],\n",
       "   [1, '2022-05-01', 18.56, 430.8937, 8000],\n",
       "   [1, '2022-06-01', 18.63, 429.3672, 8000],\n",
       "   [1, '2022-09-15', 18.92, 529.1001, 10000],\n",
       "   [1, '2023-03-01', 19.25, 415.5844, 8000],\n",
       "   [1, '2023-05-15', 19.65, 509.5541, 10000]]},\n",
       " {'isin': 'INF174V01BL6',\n",
       "  'schemeName': 'Axis Treasury Advantage Fund - Direct Growth',\n",
       "  'folioId': '2002011001',\n",
       "  'txns': [[1, '2022-07-01', 118.0, 84.7458, 10000],\n",
       "   [1, '2022-08-01', 118.45, 84.3922, 10000],\n",
       "   [1, '2022-09-01', 118.85, 84.1285, 10000],\n",
       "   [1, '2023-01-10', 120.55, 124.2775, 15000]]},\n",
       " {'isin': 'INF209K01YY1',\n",
       "  'schemeName': 'UTI Money Market Fund - Direct Growth',\n",
       "  'folioId': '2002011001',\n",
       "  'txns': [[1, '2023-01-01', 3150.0, 4.7619, 15000],\n",
       "   [1, '2023-01-31', 3162.6, 4.7424, 15000],\n",
       "   [1, '2023-02-28', 3175.0, 4.7263, 15000],\n",
       "   [1, '2023-03-30', 3182.0, 4.7166, 15000]]},\n",
       " {'isin': 'INF204KB17I9',\n",
       "  'schemeName': 'HDFC Gold ETF',\n",
       "  'folioId': '2003910001',\n",
       "  'txns': [[1, '2023-02-01', 50.0, 100.0, 5000],\n",
       "   [1, '2023-05-02', 50.5, 99.0099, 5000],\n",
       "   [1, '2024-01-10', 55.0, 90.9091, 5000]]}]"
      ]
     },
     "execution_count": 83,
     "metadata": {},
     "output_type": "execute_result"
    }
   ],
   "source": [
    "get_mutual_fund_transactions(list_user[1])['mfTransactions']\n"
   ]
  },
  {
   "cell_type": "code",
   "execution_count": 84,
   "id": "5ce88c2e",
   "metadata": {},
   "outputs": [
    {
     "data": {
      "text/plain": [
       "{'isin': 'INF174V01BL6',\n",
       " 'schemeName': 'Axis Treasury Advantage Fund - Direct Growth',\n",
       " 'folioId': '2002011001',\n",
       " 'txns': [[1, '2022-07-01', 118.0, 84.7458, 10000],\n",
       "  [1, '2022-08-01', 118.45, 84.3922, 10000],\n",
       "  [1, '2022-09-01', 118.85, 84.1285, 10000],\n",
       "  [1, '2023-01-10', 120.55, 124.2775, 15000]]}"
      ]
     },
     "execution_count": 84,
     "metadata": {},
     "output_type": "execute_result"
    }
   ],
   "source": [
    "get_mutual_fund_transactions(list_user[1])['mfTransactions'][1]"
   ]
  },
  {
   "cell_type": "code",
   "execution_count": 91,
   "id": "1b801d39",
   "metadata": {},
   "outputs": [],
   "source": [
    "# here extract the aggradte of the all mf transactions\n"
   ]
  },
  {
   "cell_type": "code",
   "execution_count": 97,
   "id": "9b929c58",
   "metadata": {},
   "outputs": [
    {
     "data": {
      "text/plain": [
       "{'schemaDescription': \"A list of stock transactions. Each 'txns' field is a list of data arrays with schema: [transactionType (1 for BUY, 2 for SELL, 3 for BONUS, 4 for SPLIT), transactionDate, quantity, navValue]. nav value may not be present in some of the transactions\",\n",
       " 'stockTransactions': [{'isin': 'INE002A01018',\n",
       "   'txns': [[1, '2023-01-15', 100, 2450.75],\n",
       "    [1, '2023-02-20', 80, 2380.5],\n",
       "    [1, '2023-04-10', 60, 2520.25],\n",
       "    [2, '2023-06-15', 30, 2680],\n",
       "    [1, '2023-08-05', 90, 2590.8],\n",
       "    [1, '2023-10-12', 70, 2720.4],\n",
       "    [2, '2023-12-18', 40, 2850.6],\n",
       "    [1, '2024-02-22', 85, 2780.9],\n",
       "    [1, '2024-04-08', 50, 2920.15],\n",
       "    [2, '2024-06-15', 25, 3050.25],\n",
       "    [1, '2024-08-20', 65, 3120.8],\n",
       "    [3, '2024-10-10', 20],\n",
       "    [1, '2024-11-25', 45, 3180.9]]},\n",
       "  {'isin': 'INE467B01029',\n",
       "   'txns': [[1, '2023-01-08', 200, 3485.6],\n",
       "    [1, '2023-03-25', 300, 3472.3],\n",
       "    [1, '2023-05-14', 180, 3598.75],\n",
       "    [2, '2023-07-30', 100, 3615.2],\n",
       "    [1, '2023-09-12', 250, 3502.9],\n",
       "    [1, '2023-11-28', 200, 3728.45],\n",
       "    [3, '2024-01-15', 80],\n",
       "    [1, '2024-03-20', 150, 3845.8],\n",
       "    [2, '2024-05-05', 120, 3962.1],\n",
       "    [1, '2024-07-20', 180, 4078.65],\n",
       "    [1, '2024-09-10', 140, 4195.2],\n",
       "    [2, '2024-11-15', 90, 4312.75]]},\n",
       "  {'isin': 'INE040A01034',\n",
       "   'txns': [[1, '2023-02-25', 80, 1425.3],\n",
       "    [1, '2023-04-10', 100, 1398.75],\n",
       "    [1, '2023-06-05', 70, 1456.2],\n",
       "    [2, '2023-08-18', 40, 1485.6],\n",
       "    [1, '2023-10-22', 120, 1472.8],\n",
       "    [1, '2023-12-08', 140, 1512.45],\n",
       "    [2, '2024-02-12', 60, 1548.9],\n",
       "    [1, '2024-04-28', 95, 1565.75],\n",
       "    [4, '2024-06-15', 15],\n",
       "    [1, '2024-08-10', 150, 1592.3],\n",
       "    [1, '2024-10-25', 110, 1620.85],\n",
       "    [2, '2024-12-05', 70, 1650.4],\n",
       "    [1, '2024-12-20', 125, 1680.95],\n",
       "    [3, '2024-12-28', 25]]},\n",
       "  {'isin': 'INE009A01021',\n",
       "   'txns': [[1, '2023-01-14', 300, 1425.4],\n",
       "    [1, '2023-03-18', 400, 1398.9],\n",
       "    [1, '2023-05-22', 250, 1532.75],\n",
       "    [2, '2023-07-28', 150, 1568.2],\n",
       "    [1, '2023-09-16', 350, 1535.6],\n",
       "    [1, '2023-11-20', 280, 1642.85],\n",
       "    [2, '2024-01-10', 120, 1698.3],\n",
       "    [1, '2024-03-25', 220, 1645.75],\n",
       "    [3, '2024-05-12', 100],\n",
       "    [2, '2024-07-28', 140, 1752.9],\n",
       "    [1, '2024-09-15', 190, 1798.45],\n",
       "    [1, '2024-11-10', 240, 1834.2],\n",
       "    [2, '2024-12-18', 100, 1870.85]]},\n",
       "  {'isin': 'INE001A01036',\n",
       "   'txns': [[1, '2023-02-12', 600, 168.25],\n",
       "    [1, '2023-04-08', 800, 165.8],\n",
       "    [1, '2023-06-15', 500, 171.4],\n",
       "    [2, '2023-08-30', 300, 174.9],\n",
       "    [1, '2023-10-18', 450, 172.65],\n",
       "    [1, '2023-12-25', 700, 176.2],\n",
       "    [2, '2024-02-12', 350, 178.85],\n",
       "    [1, '2024-04-30', 550, 177.5],\n",
       "    [1, '2024-06-05', 300, 181.3],\n",
       "    [4, '2024-08-20', 150],\n",
       "    [1, '2024-10-15', 400, 184.75],\n",
       "    [2, '2024-12-02', 200, 187.9]]},\n",
       "  {'isin': 'INE158A01026',\n",
       "   'txns': [[1, '2023-01-20', 400, 390.5],\n",
       "    [1, '2023-03-15', 500, 385.25],\n",
       "    [1, '2023-05-10', 300, 410.8],\n",
       "    [2, '2023-07-25', 200, 425.6],\n",
       "    [1, '2023-09-08', 450, 405.4],\n",
       "    [1, '2023-11-12', 350, 440.75],\n",
       "    [2, '2024-01-28', 180, 455.2],\n",
       "    [1, '2024-03-20', 320, 470.85],\n",
       "    [1, '2024-05-15', 250, 485.6],\n",
       "    [3, '2024-07-10', 120],\n",
       "    [1, '2024-09-25', 280, 505.3],\n",
       "    [2, '2024-11-08', 150, 520.75],\n",
       "    [1, '2024-12-15', 200, 535.9],\n",
       "    [1, '2024-12-28', 180, 548.25]]},\n",
       "  {'isin': 'INE101A01026',\n",
       "   'txns': [[1, '2023-02-05', 250, 720.8],\n",
       "    [1, '2023-04-20', 350, 715.5],\n",
       "    [1, '2023-06-25', 200, 735.75],\n",
       "    [2, '2023-08-15', 120, 742.2],\n",
       "    [1, '2023-10-30', 300, 738.9],\n",
       "    [1, '2023-12-18', 250, 755.4],\n",
       "    [2, '2024-02-25', 150, 768.75],\n",
       "    [1, '2024-04-12', 220, 762.5],\n",
       "    [1, '2024-06-28', 180, 778.95],\n",
       "    [3, '2024-08-15', 80],\n",
       "    [1, '2024-10-05', 200, 785.2],\n",
       "    [2, '2024-11-20', 100, 792.85],\n",
       "    [1, '2024-12-10', 150, 798.6]]},\n",
       "  {'isin': 'INE018A01030',\n",
       "   'txns': [[1, '2023-01-30', 400, 2185.4],\n",
       "    [1, '2023-03-28', 500, 2178.9],\n",
       "    [1, '2023-05-18', 300, 2292.75],\n",
       "    [2, '2023-07-12', 200, 2298.2],\n",
       "    [1, '2023-09-25', 450, 2295.6],\n",
       "    [1, '2023-11-15', 400, 2405.85],\n",
       "    [2, '2024-01-20', 250, 2512.3],\n",
       "    [1, '2024-03-18', 350, 2408.75],\n",
       "    [1, '2024-05-25', 280, 2518.95],\n",
       "    [4, '2024-07-08', 100],\n",
       "    [1, '2024-09-12', 320, 2625.4],\n",
       "    [2, '2024-10-28', 180, 2732.85],\n",
       "    [1, '2024-12-05', 250, 2838.6],\n",
       "    [3, '2024-12-22', 120],\n",
       "    [1, '2024-12-30', 200, 2945.2]]}]}"
      ]
     },
     "execution_count": 97,
     "metadata": {},
     "output_type": "execute_result"
    }
   ],
   "source": [
    "get_stock_transactions(\"2121212121\")"
   ]
  },
  {
   "cell_type": "code",
   "execution_count": null,
   "id": "821eda97",
   "metadata": {},
   "outputs": [],
   "source": [
    "# stock dont have the name "
   ]
  },
  {
   "cell_type": "code",
   "execution_count": 126,
   "id": "ee6f9cde",
   "metadata": {},
   "outputs": [
    {
     "data": {
      "text/plain": [
       "dict_keys(['user_id', 'net_worth', 'bank_transactions', 'mutual_fund_transactions', 'stock_transactions', 'epf_details', 'credit_report'])"
      ]
     },
     "execution_count": 126,
     "metadata": {},
     "output_type": "execute_result"
    }
   ],
   "source": [
    "get_complete_profile(list_user[0]).keys()"
   ]
  },
  {
   "cell_type": "code",
   "execution_count": 127,
   "id": "79c1c0b9",
   "metadata": {},
   "outputs": [
    {
     "data": {
      "text/plain": [
       "{'user_id': '1212121212',\n",
       " 'net_worth': {'netWorthResponse': {'assetValues': [{'netWorthAttribute': 'ASSET_TYPE_EPF',\n",
       "     'value': {'currencyCode': 'INR', 'units': '235000'}},\n",
       "    {'netWorthAttribute': 'ASSET_TYPE_SAVINGS_ACCOUNTS',\n",
       "     'value': {'currencyCode': 'INR', 'units': '15750'}}],\n",
       "   'totalNetWorthValue': {'currencyCode': 'INR', 'units': '250750'}},\n",
       "  'mfSchemeAnalytics': {'schemeAnalytics': []},\n",
       "  'accountDetailsBulkResponse': {'accountDetailsMap': {'d0e1f2a3-b4c5-6789-abcd-ef1234567890': {'accountDetails': {'fipId': 'fip@epfo',\n",
       "      'maskedAccountNumber': 'DLCPM-XXXX-XXXX',\n",
       "      'accInstrumentType': 'ACC_INSTRUMENT_TYPE_EPF',\n",
       "      'accountType': {'epfAccountType': 'EPF_ACCOUNT_TYPE_DEFAULT_TYPE'},\n",
       "      'fipMeta': {'name': 'EPFO', 'displayName': 'EPFO'}},\n",
       "     'epfSummary': {'accountId': 'd0e1f2a3-b4c5-6789-abcd-ef1234567890',\n",
       "      'currentBalance': {'currencyCode': 'INR', 'units': '235000'},\n",
       "      'balanceDate': '2024-05-20T00:00:00Z',\n",
       "      'accountStatus': 'EPF_ACCOUNT_STATUS_INACTIVE'}},\n",
       "    'e1f2a3b4-c5d6-7890-bcde-f12345678901': {'accountDetails': {'fipId': 'PNB-FIP',\n",
       "      'maskedAccountNumber': 'XXXXXX8811',\n",
       "      'accInstrumentType': 'ACC_INSTRUMENT_TYPE_DEPOSIT',\n",
       "      'ifscCode': 'PUNB0123456',\n",
       "      'accountType': {'depositAccountType': 'DEPOSIT_ACCOUNT_TYPE_SAVINGS'},\n",
       "      'fipMeta': {'name': 'Punjab National Bank',\n",
       "       'displayName': 'PNB',\n",
       "       'bank': 'PNB'}},\n",
       "     'depositSummary': {'accountId': 'e1f2a3b4-c5d6-7890-bcde-f12345678901',\n",
       "      'currentBalance': {'currencyCode': 'INR', 'units': '15750'},\n",
       "      'balanceDate': '2024-06-15T14:30:00Z',\n",
       "      'depositAccountType': 'DEPOSIT_ACCOUNT_TYPE_SAVINGS',\n",
       "      'branch': 'Delhi Main',\n",
       "      'ifscCode': 'PUNB0123456',\n",
       "      'openingDate': '2015-06-10T00:00:00Z',\n",
       "      'depositAccountStatus': 'DEPOSIT_ACCOUNT_STATUS_ACTIVE'}}}}},\n",
       " 'bank_transactions': {'schemaDescription': \"A list of bank transactions. Each 'txns' field is a list of data arrays with schema: [transactionAmount, transactionNarration, transactionDate, transactionType (1 for CREDIT, 2 for DEBIT, 3 for OPENING, 4 for INTEREST, 5 for TDS, 6 for INSTALLMENT, 7 for CLOSING and 8 for OTHERS), transactionMode, currentBalance].\\n We currently have have only last two month transaction, older transaction are coming soon...\",\n",
       "  'bankTransactions': [{'bank': 'Punjab National Bank',\n",
       "    'txns': [['2500',\n",
       "      'UPI-MOM-9876543210@YBL-PAYMENT FROM MOM',\n",
       "      '2024-07-02',\n",
       "      1,\n",
       "      'FT',\n",
       "      '16500'],\n",
       "     ['150',\n",
       "      'UPI-RECHARGE-AIRTELPREPAID@AXIS-MOBILE RECHARGE',\n",
       "      '2024-07-04',\n",
       "      2,\n",
       "      'OTHERS',\n",
       "      '16350'],\n",
       "     ['280',\n",
       "      'UPI-SWIGGY-SWIGGY@YBL-FOOD ORDER',\n",
       "      '2024-07-07',\n",
       "      2,\n",
       "      'OTHERS',\n",
       "      '16070'],\n",
       "     ['1000',\n",
       "      'CASH WDL-P1A01234-PNB ATM-DELHI',\n",
       "      '2024-07-10',\n",
       "      2,\n",
       "      'ATM',\n",
       "      '15070'],\n",
       "     ['1500', 'IMPS-RAHUL-HELP', '2024-07-15', 1, 'FT', '16570'],\n",
       "     ['3000',\n",
       "      'UPI-PAYMENT RECEIVED-CLIENT WORK-REF88776',\n",
       "      '2024-07-20',\n",
       "      1,\n",
       "      'OTHERS',\n",
       "      '19570'],\n",
       "     ['850',\n",
       "      'UPI-SIMPL-SIMPL@AXISBANK-REPAYMENT',\n",
       "      '2024-07-25',\n",
       "      2,\n",
       "      'CARD_PAYMENT',\n",
       "      '18720'],\n",
       "     ['2000', 'BY CASH DEPOSIT-SELF-CDM', '2024-06-03', 1, 'CASH', '9500'],\n",
       "     ['5000',\n",
       "      'UPI-AMIT SHARMA-AMITSHARMA@OKICICI-JUNE RENT SHARE',\n",
       "      '2024-06-05',\n",
       "      2,\n",
       "      'FT',\n",
       "      '4500'],\n",
       "     ['3000',\n",
       "      'UPI-DAD-9988776655@PAYTM-FOR EXPENSES',\n",
       "      '2024-06-10',\n",
       "      1,\n",
       "      'FT',\n",
       "      '7500'],\n",
       "     ['310', 'UPI-ZOMATO-ZOMATO@YBL-LUNCH', '2024-06-15', 2, 'OTHERS', '7190'],\n",
       "     ['120',\n",
       "      'UPI-DMRC-METRO CARD RECHARGE@PAYTM',\n",
       "      '2024-06-22',\n",
       "      2,\n",
       "      'OTHERS',\n",
       "      '7070'],\n",
       "     ['500',\n",
       "      'CASH WDL-P1A05678-PNB ATM-DELHI',\n",
       "      '2024-06-28',\n",
       "      2,\n",
       "      'ATM',\n",
       "      '6570']]}]},\n",
       " 'mutual_fund_transactions': {},\n",
       " 'stock_transactions': {},\n",
       " 'epf_details': {'uanAccounts': [{'phoneNumber': {},\n",
       "    'rawDetails': {'est_details': [{'est_name': 'TECH LEGACY SYSTEMS PVT LTD',\n",
       "       'member_id': 'DLCPMXXXXXXXXXXXXXXXXX',\n",
       "       'office': '(RO)DELHI NORTH',\n",
       "       'doj_epf': '10-06-2015',\n",
       "       'doe_epf': '31-08-2019',\n",
       "       'doe_eps': '31-08-2019',\n",
       "       'pf_balance': {'net_balance': '235000',\n",
       "        'employee_share': {'credit': '110000', 'balance': '110000'},\n",
       "        'employer_share': {'credit': '110000', 'balance': '110000'}}}],\n",
       "     'overall_pf_balance': {'pension_balance': '48000',\n",
       "      'current_pf_balance': '235000',\n",
       "      'employee_share_total': {'credit': '110000', 'balance': '110000'},\n",
       "      'employer_share_total': {'credit': '110000', 'balance': '110000'}}}}]},\n",
       " 'credit_report': {}}"
      ]
     },
     "execution_count": 127,
     "metadata": {},
     "output_type": "execute_result"
    }
   ],
   "source": [
    "get_complete_profile(list_user[0])"
   ]
  },
  {
   "cell_type": "code",
   "execution_count": 134,
   "id": "26c7e73e",
   "metadata": {},
   "outputs": [
    {
     "data": {
      "text/plain": [
       "[{'phoneNumber': {},\n",
       "  'rawDetails': {'est_details': [{'est_name': 'NEXGEN SOFTWARE SOLUTIONS',\n",
       "     'member_id': 'MHPN*****************',\n",
       "     'office': '(RO)PUNE',\n",
       "     'doj_epf': '15-06-2013',\n",
       "     'doe_epf': '31-12-2016',\n",
       "     'doe_eps': '31-12-2016',\n",
       "     'pf_balance': {'net_balance': '350000',\n",
       "      'employee_share': {'credit': '160000', 'balance': '160000'},\n",
       "      'employer_share': {'credit': '160000', 'balance': '160000'}}},\n",
       "    {'est_name': 'INNOVA ANALYTICS PVT LTD',\n",
       "     'member_id': 'KABN*****************',\n",
       "     'office': '(RO)BENGALURU',\n",
       "     'doj_epf': '10-01-2017',\n",
       "     'doe_epf': '28-02-2020',\n",
       "     'doe_eps': '28-02-2020',\n",
       "     'pf_balance': {'net_balance': '480000',\n",
       "      'employee_share': {'credit': '220000', 'balance': '220000'},\n",
       "      'employer_share': {'credit': '220000', 'balance': '220000'}}},\n",
       "    {'est_name': 'FINTECH FRONTIERS (INDIA)',\n",
       "     'member_id': 'TNHY*****************',\n",
       "     'office': '(RO)HYDERABAD',\n",
       "     'doj_epf': '15-03-2020',\n",
       "     'doe_epf': '31-05-2022',\n",
       "     'doe_eps': '31-05-2022',\n",
       "     'pf_balance': {'net_balance': '450000',\n",
       "      'employee_share': {'credit': '210000', 'balance': '210000'},\n",
       "      'employer_share': {'credit': '210000', 'balance': '210000'}}},\n",
       "    {'est_name': 'GLOBAL WEALTH MANAGEMENT CORP',\n",
       "     'member_id': 'MHBANXXXXXXXXXXXXXXXXX',\n",
       "     'office': '(RO)BANDRA(MUMBAI-I)',\n",
       "     'doj_epf': '10-06-2022',\n",
       "     'doe_epf': 'NOT AVAILABLE',\n",
       "     'doe_eps': 'NOT AVAILABLE',\n",
       "     'pf_balance': {'net_balance': '500000',\n",
       "      'employee_share': {'credit': '230000', 'balance': '230000'},\n",
       "      'employer_share': {'credit': '230000', 'balance': '230000'}}}],\n",
       "   'overall_pf_balance': {'pension_balance': '550000',\n",
       "    'current_pf_balance': '1780000',\n",
       "    'employee_share_total': {'credit': '820000', 'balance': '820000'},\n",
       "    'employer_share_total': {'credit': '820000', 'balance': '820000'}}}}]"
      ]
     },
     "execution_count": 134,
     "metadata": {},
     "output_type": "execute_result"
    }
   ],
   "source": [
    "get_epf_details(list_user[7])['uanAccounts']"
   ]
  },
  {
   "cell_type": "code",
   "execution_count": 141,
   "id": "88a503f9",
   "metadata": {},
   "outputs": [
    {
     "data": {
      "text/plain": [
       "{'est_details': [{'est_name': 'NEXGEN SOFTWARE SOLUTIONS',\n",
       "   'member_id': 'MHPN*****************',\n",
       "   'office': '(RO)PUNE',\n",
       "   'doj_epf': '15-06-2013',\n",
       "   'doe_epf': '31-12-2016',\n",
       "   'doe_eps': '31-12-2016',\n",
       "   'pf_balance': {'net_balance': '350000',\n",
       "    'employee_share': {'credit': '160000', 'balance': '160000'},\n",
       "    'employer_share': {'credit': '160000', 'balance': '160000'}}},\n",
       "  {'est_name': 'INNOVA ANALYTICS PVT LTD',\n",
       "   'member_id': 'KABN*****************',\n",
       "   'office': '(RO)BENGALURU',\n",
       "   'doj_epf': '10-01-2017',\n",
       "   'doe_epf': '28-02-2020',\n",
       "   'doe_eps': '28-02-2020',\n",
       "   'pf_balance': {'net_balance': '480000',\n",
       "    'employee_share': {'credit': '220000', 'balance': '220000'},\n",
       "    'employer_share': {'credit': '220000', 'balance': '220000'}}},\n",
       "  {'est_name': 'FINTECH FRONTIERS (INDIA)',\n",
       "   'member_id': 'TNHY*****************',\n",
       "   'office': '(RO)HYDERABAD',\n",
       "   'doj_epf': '15-03-2020',\n",
       "   'doe_epf': '31-05-2022',\n",
       "   'doe_eps': '31-05-2022',\n",
       "   'pf_balance': {'net_balance': '450000',\n",
       "    'employee_share': {'credit': '210000', 'balance': '210000'},\n",
       "    'employer_share': {'credit': '210000', 'balance': '210000'}}},\n",
       "  {'est_name': 'GLOBAL WEALTH MANAGEMENT CORP',\n",
       "   'member_id': 'MHBANXXXXXXXXXXXXXXXXX',\n",
       "   'office': '(RO)BANDRA(MUMBAI-I)',\n",
       "   'doj_epf': '10-06-2022',\n",
       "   'doe_epf': 'NOT AVAILABLE',\n",
       "   'doe_eps': 'NOT AVAILABLE',\n",
       "   'pf_balance': {'net_balance': '500000',\n",
       "    'employee_share': {'credit': '230000', 'balance': '230000'},\n",
       "    'employer_share': {'credit': '230000', 'balance': '230000'}}}],\n",
       " 'overall_pf_balance': {'pension_balance': '550000',\n",
       "  'current_pf_balance': '1780000',\n",
       "  'employee_share_total': {'credit': '820000', 'balance': '820000'},\n",
       "  'employer_share_total': {'credit': '820000', 'balance': '820000'}}}"
      ]
     },
     "execution_count": 141,
     "metadata": {},
     "output_type": "execute_result"
    }
   ],
   "source": [
    "get_epf_details(list_user[7])['uanAccounts'][0]['rawDetails']"
   ]
  },
  {
   "cell_type": "code",
   "execution_count": 148,
   "id": "93a8a5ef",
   "metadata": {},
   "outputs": [
    {
     "data": {
      "text/plain": [
       "{'est_name': 'FINTECH FRONTIERS (INDIA)',\n",
       " 'member_id': 'TNHY*****************',\n",
       " 'office': '(RO)HYDERABAD',\n",
       " 'doj_epf': '15-03-2020',\n",
       " 'doe_epf': '31-05-2022',\n",
       " 'doe_eps': '31-05-2022',\n",
       " 'pf_balance': {'net_balance': '450000',\n",
       "  'employee_share': {'credit': '210000', 'balance': '210000'},\n",
       "  'employer_share': {'credit': '210000', 'balance': '210000'}}}"
      ]
     },
     "execution_count": 148,
     "metadata": {},
     "output_type": "execute_result"
    }
   ],
   "source": [
    "get_epf_details(list_user[7])['uanAccounts'][0]['rawDetails']['est_details'][2]"
   ]
  },
  {
   "cell_type": "code",
   "execution_count": 159,
   "id": "175fb78d",
   "metadata": {},
   "outputs": [
    {
     "data": {
      "text/plain": [
       "dict_keys(['creditReportData', 'vendor'])"
      ]
     },
     "execution_count": 159,
     "metadata": {},
     "output_type": "execute_result"
    }
   ],
   "source": [
    "get_credit_report(list_user[5])['creditReports'][0].keys()"
   ]
  },
  {
   "cell_type": "code",
   "execution_count": 161,
   "id": "973f2fb5",
   "metadata": {},
   "outputs": [
    {
     "data": {
      "text/plain": [
       "{'userMessage': {'userMessageText': 'Normal Response'},\n",
       " 'creditProfileHeader': {'reportDate': '20240521', 'reportTime': '121020'},\n",
       " 'currentApplication': {'currentApplicationDetails': {'enquiryReason': '0',\n",
       "   'amountFinanced': '0',\n",
       "   'durationOfAgreement': '0',\n",
       "   'currentApplicantDetails': {'dateOfBirthApplicant': '19870320'}}},\n",
       " 'creditAccount': {'creditAccountSummary': {'account': {'creditAccountTotal': '2',\n",
       "    'creditAccountActive': '2',\n",
       "    'creditAccountDefault': '0',\n",
       "    'creditAccountClosed': '0',\n",
       "    'cadSuitFiledCurrentBalance': '0'},\n",
       "   'totalOutstandingBalance': {'outstandingBalanceSecured': '0',\n",
       "    'outstandingBalanceSecuredPercentage': '0',\n",
       "    'outstandingBalanceUnSecured': '30000',\n",
       "    'outstandingBalanceUnSecuredPercentage': '100',\n",
       "    'outstandingBalanceAll': '30000'}},\n",
       "  'creditAccountDetails': [{'subscriberName': 'SBI Card',\n",
       "    'portfolioType': 'R',\n",
       "    'accountType': '10',\n",
       "    'openDate': '20160210',\n",
       "    'creditLimitAmount': '120000',\n",
       "    'highestCreditOrOriginalLoanAmount': '120000',\n",
       "    'accountStatus': '11',\n",
       "    'paymentRating': '0',\n",
       "    'paymentHistoryProfile': '000000000000000000000000000000000000',\n",
       "    'currentBalance': '18000',\n",
       "    'amountPastDue': '0',\n",
       "    'dateReported': '20240503',\n",
       "    'occupationCode': 'S',\n",
       "    'rateOfInterest': '20.0',\n",
       "    'repaymentTenure': '0',\n",
       "    'dateOfAddition': '20160210',\n",
       "    'currencyCode': 'INR',\n",
       "    'accountHolderTypeCode': '1'},\n",
       "   {'subscriberName': 'ICICI Bank',\n",
       "    'portfolioType': 'R',\n",
       "    'accountType': '10',\n",
       "    'openDate': '20210525',\n",
       "    'creditLimitAmount': '80000',\n",
       "    'highestCreditOrOriginalLoanAmount': '80000',\n",
       "    'accountStatus': '11',\n",
       "    'paymentRating': '0',\n",
       "    'paymentHistoryProfile': '000000000000000000000000000000000000',\n",
       "    'currentBalance': '12000',\n",
       "    'amountPastDue': '0',\n",
       "    'dateReported': '20240428',\n",
       "    'occupationCode': 'S',\n",
       "    'rateOfInterest': '21.5',\n",
       "    'repaymentTenure': '0',\n",
       "    'dateOfAddition': '20210525',\n",
       "    'currencyCode': 'INR',\n",
       "    'accountHolderTypeCode': '1'}]},\n",
       " 'matchResult': {'exactMatch': 'Y'},\n",
       " 'totalCapsSummary': {'totalCapsLast7Days': '0',\n",
       "  'totalCapsLast30Days': '0',\n",
       "  'totalCapsLast90Days': '0',\n",
       "  'totalCapsLast180Days': '0'},\n",
       " 'nonCreditCaps': {'nonCreditCapsSummary': {'nonCreditCapsLast7Days': '0',\n",
       "   'nonCreditCapsLast30Days': '0',\n",
       "   'nonCreditCapsLast90Days': '0',\n",
       "   'nonCreditCapsLast180Days': '0'},\n",
       "  'capsApplicationDetailsArray': []},\n",
       " 'score': {'bureauScore': '788', 'bureauScoreConfidenceLevel': 'H'},\n",
       " 'segment': {},\n",
       " 'caps': {'capsSummary': {'capsLast7Days': '0',\n",
       "   'capsLast30Days': '0',\n",
       "   'capsLast90Days': '0',\n",
       "   'capsLast180Days': '0'},\n",
       "  'capsApplicationDetailsArray': []}}"
      ]
     },
     "execution_count": 161,
     "metadata": {},
     "output_type": "execute_result"
    }
   ],
   "source": [
    "get_credit_report(list_user[5])['creditReports'][0]['creditReportData']"
   ]
  },
  {
   "cell_type": "code",
   "execution_count": null,
   "id": "1263cc42",
   "metadata": {},
   "outputs": [],
   "source": []
  },
  {
   "cell_type": "code",
   "execution_count": null,
   "id": "6bf1c845",
   "metadata": {},
   "outputs": [],
   "source": []
  },
  {
   "cell_type": "code",
   "execution_count": null,
   "id": "bbb13ffb",
   "metadata": {},
   "outputs": [],
   "source": []
  },
  {
   "cell_type": "code",
   "execution_count": null,
   "id": "9f4d2893",
   "metadata": {},
   "outputs": [],
   "source": []
  },
  {
   "cell_type": "code",
   "execution_count": null,
   "id": "c36369ff",
   "metadata": {},
   "outputs": [],
   "source": []
  },
  {
   "cell_type": "code",
   "execution_count": null,
   "id": "347fa2a6",
   "metadata": {},
   "outputs": [],
   "source": []
  },
  {
   "cell_type": "code",
   "execution_count": null,
   "id": "cc4d8888",
   "metadata": {},
   "outputs": [],
   "source": []
  },
  {
   "cell_type": "code",
   "execution_count": null,
   "id": "aa2e4d5f",
   "metadata": {},
   "outputs": [],
   "source": []
  },
  {
   "cell_type": "code",
   "execution_count": null,
   "id": "1c185224",
   "metadata": {},
   "outputs": [],
   "source": []
  },
  {
   "cell_type": "code",
   "execution_count": null,
   "id": "9853f031",
   "metadata": {},
   "outputs": [],
   "source": []
  },
  {
   "cell_type": "code",
   "execution_count": null,
   "id": "d20ce5d6",
   "metadata": {},
   "outputs": [],
   "source": []
  },
  {
   "cell_type": "code",
   "execution_count": 114,
   "id": "5940d3d8",
   "metadata": {},
   "outputs": [
    {
     "data": {
      "text/plain": [
       "[dict_keys(['netWorthResponse', 'mfSchemeAnalytics', 'accountDetailsBulkResponse']),\n",
       " dict_keys(['netWorthResponse', 'mfSchemeAnalytics', 'accountDetailsBulkResponse']),\n",
       " dict_keys(['creditReports']),\n",
       " dict_keys(['netWorthResponse', 'mfSchemeAnalytics', 'accountDetailsBulkResponse']),\n",
       " dict_keys(['netWorthResponse', 'mfSchemeAnalytics', 'accountDetailsBulkResponse']),\n",
       " dict_keys(['netWorthResponse', 'mfSchemeAnalytics', 'accountDetailsBulkResponse']),\n",
       " dict_keys(['netWorthResponse', 'mfSchemeAnalytics', 'accountDetailsBulkResponse']),\n",
       " dict_keys(['netWorthResponse', 'mfSchemeAnalytics', 'accountDetailsBulkResponse']),\n",
       " dict_keys(['netWorthResponse', 'mfSchemeAnalytics', 'accountDetailsBulkResponse']),\n",
       " dict_keys(['netWorthResponse', 'mfSchemeAnalytics', 'accountDetailsBulkResponse']),\n",
       " dict_keys(['netWorthResponse', 'mfSchemeAnalytics', 'accountDetailsBulkResponse']),\n",
       " dict_keys(['netWorthResponse', 'mfSchemeAnalytics', 'accountDetailsBulkResponse']),\n",
       " dict_keys(['netWorthResponse', 'mfSchemeAnalytics', 'accountDetailsBulkResponse']),\n",
       " dict_keys(['netWorthResponse', 'mfSchemeAnalytics', 'accountDetailsBulkResponse']),\n",
       " dict_keys(['netWorthResponse', 'mfSchemeAnalytics', 'accountDetailsBulkResponse']),\n",
       " dict_keys(['netWorthResponse', 'mfSchemeAnalytics', 'accountDetailsBulkResponse'])]"
      ]
     },
     "execution_count": 114,
     "metadata": {},
     "output_type": "execute_result"
    }
   ],
   "source": [
    "[get_net_worth(list_user[i]).keys() for i in range(len(list_user))]"
   ]
  },
  {
   "cell_type": "code",
   "execution_count": 116,
   "id": "322070d1",
   "metadata": {},
   "outputs": [
    {
     "data": {
      "text/plain": [
       "dict_keys(['creditReports'])"
      ]
     },
     "execution_count": 116,
     "metadata": {},
     "output_type": "execute_result"
    }
   ],
   "source": [
    "get_net_worth(list_user[2]).keys()"
   ]
  },
  {
   "cell_type": "code",
   "execution_count": 121,
   "id": "6dbbd8c3",
   "metadata": {},
   "outputs": [
    {
     "data": {
      "text/plain": [
       "{'assetValues': [{'netWorthAttribute': 'ASSET_TYPE_EPF',\n",
       "   'value': {'currencyCode': 'INR', 'units': '235000'}},\n",
       "  {'netWorthAttribute': 'ASSET_TYPE_SAVINGS_ACCOUNTS',\n",
       "   'value': {'currencyCode': 'INR', 'units': '15750'}}],\n",
       " 'totalNetWorthValue': {'currencyCode': 'INR', 'units': '250750'}}"
      ]
     },
     "execution_count": 121,
     "metadata": {},
     "output_type": "execute_result"
    }
   ],
   "source": [
    "get_net_worth(list_user[0])['netWorthResponse']"
   ]
  },
  {
   "cell_type": "code",
   "execution_count": 123,
   "id": "c6b54f4d",
   "metadata": {},
   "outputs": [
    {
     "data": {
      "text/plain": [
       "{'schemeAnalytics': [{'schemeDetail': {'amc': 'NIPPON_INDIA_MUTUAL_FUND',\n",
       "    'nameData': {'longName': 'Nippon India Corporate Bond Fund - Direct Growth'},\n",
       "    'planType': 'DIRECT',\n",
       "    'investmentType': 'OPEN',\n",
       "    'optionType': 'GROWTH',\n",
       "    'divReinvOptionType': 'NOT_APPLICABLE',\n",
       "    'nav': {'currencyCode': 'INR', 'units': '21', 'nanos': 500000000},\n",
       "    'assetClass': 'DEBT',\n",
       "    'isinNumber': 'INF179KB1HS3',\n",
       "    'categoryName': 'CORPORATE_BOND_FUND',\n",
       "    'fundhouseDefinedRiskLevel': 'MODERATE_RISK'},\n",
       "   'enrichedAnalytics': {'analytics': {'schemeDetails': {'currentValue': {'currencyCode': 'INR',\n",
       "       'units': '59058'},\n",
       "      'investedValue': {'currencyCode': 'INR', 'units': '52000'},\n",
       "      'XIRR': 8.15,\n",
       "      'absoluteReturns': {'currencyCode': 'INR', 'units': '7058'},\n",
       "      'unrealisedReturns': {'currencyCode': 'INR', 'units': '7058'},\n",
       "      'navValue': {'currencyCode': 'INR', 'units': '21', 'nanos': 500000000},\n",
       "      'units': 2746.92}}}},\n",
       "  {'schemeDetail': {'amc': 'AXIS_MUTUAL_FUND',\n",
       "    'nameData': {'longName': 'Axis Treasury Advantage Fund - Direct Growth'},\n",
       "    'planType': 'DIRECT',\n",
       "    'investmentType': 'OPEN',\n",
       "    'optionType': 'GROWTH',\n",
       "    'divReinvOptionType': 'NOT_APPLICABLE',\n",
       "    'nav': {'currencyCode': 'INR', 'units': '128'},\n",
       "    'assetClass': 'DEBT',\n",
       "    'isinNumber': 'INF174V01BL6',\n",
       "    'categoryName': 'LOW_DURATION_FUND',\n",
       "    'fundhouseDefinedRiskLevel': 'LOW_TO_MODERATE_RISK'},\n",
       "   'enrichedAnalytics': {'analytics': {'schemeDetails': {'currentValue': {'currencyCode': 'INR',\n",
       "       'units': '48326'},\n",
       "      'investedValue': {'currencyCode': 'INR', 'units': '45000'},\n",
       "      'XIRR': 7.8,\n",
       "      'absoluteReturns': {'currencyCode': 'INR', 'units': '3326'},\n",
       "      'unrealisedReturns': {'currencyCode': 'INR', 'units': '3326'},\n",
       "      'navValue': {'currencyCode': 'INR', 'units': '128'},\n",
       "      'units': 377.55}}}},\n",
       "  {'schemeDetail': {'amc': 'UTI_MUTUAL_FUND',\n",
       "    'nameData': {'longName': 'UTI Money Market Fund - Direct Growth'},\n",
       "    'planType': 'DIRECT',\n",
       "    'investmentType': 'OPEN',\n",
       "    'optionType': 'GROWTH',\n",
       "    'divReinvOptionType': 'NOT_APPLICABLE',\n",
       "    'nav': {'currencyCode': 'INR', 'units': '3300'},\n",
       "    'assetClass': 'DEBT',\n",
       "    'isinNumber': 'INF209K01YY1',\n",
       "    'categoryName': 'MONEY_MARKET_FUND',\n",
       "    'fundhouseDefinedRiskLevel': 'LOW_TO_MODERATE_RISK'},\n",
       "   'enrichedAnalytics': {'analytics': {'schemeDetails': {'currentValue': {'currencyCode': 'INR',\n",
       "       'units': '62535'},\n",
       "      'investedValue': {'currencyCode': 'INR', 'units': '60000'},\n",
       "      'XIRR': 7.1,\n",
       "      'absoluteReturns': {'currencyCode': 'INR', 'units': '2535'},\n",
       "      'unrealisedReturns': {'currencyCode': 'INR', 'units': '2535'},\n",
       "      'navValue': {'currencyCode': 'INR', 'units': '3300'},\n",
       "      'units': 18.95}}}},\n",
       "  {'schemeDetail': {'amc': 'HDFC_MUTUAL_FUND',\n",
       "    'nameData': {'longName': 'HDFC Gold ETF'},\n",
       "    'planType': 'DIRECT',\n",
       "    'investmentType': 'OPEN',\n",
       "    'optionType': 'GROWTH',\n",
       "    'divReinvOptionType': 'NOT_APPLICABLE',\n",
       "    'nav': {'currencyCode': 'INR', 'units': '58'},\n",
       "    'assetClass': 'COMMODITY',\n",
       "    'isinNumber': 'INF204KB17I9',\n",
       "    'categoryName': 'GOLD_ETF',\n",
       "    'fundhouseDefinedRiskLevel': 'HIGH_RISK'},\n",
       "   'enrichedAnalytics': {'analytics': {'schemeDetails': {'currentValue': {'currencyCode': 'INR',\n",
       "       'units': '16815'},\n",
       "      'investedValue': {'currencyCode': 'INR', 'units': '15000'},\n",
       "      'XIRR': 9.92,\n",
       "      'absoluteReturns': {'currencyCode': 'INR', 'units': '1815'},\n",
       "      'unrealisedReturns': {'currencyCode': 'INR', 'units': '1815'},\n",
       "      'navValue': {'currencyCode': 'INR', 'units': '58'},\n",
       "      'units': 289.92}}}}]}"
      ]
     },
     "execution_count": 123,
     "metadata": {},
     "output_type": "execute_result"
    }
   ],
   "source": [
    "get_net_worth(list_user[1])['mfSchemeAnalytics']"
   ]
  },
  {
   "cell_type": "code",
   "execution_count": 124,
   "id": "cf92fb81",
   "metadata": {},
   "outputs": [
    {
     "data": {
      "text/plain": [
       "{'accountDetailsMap': {'a1b2c3d4-e5f6-7890-1234-567890abcdef': {'accountDetails': {'fipId': 'fip@kfintech',\n",
       "    'maskedAccountNumber': 'XXXXXX1001',\n",
       "    'accInstrumentType': 'ACC_INSTRUMENT_TYPE_MUTUAL_FUNDS',\n",
       "    'accountType': {'mutualFundAccountType': 'MUTUAL_FUND_ACCOUNT_TYPE_FOLIO'},\n",
       "    'fipMeta': {'name': 'KFintech', 'displayName': 'KFintech'}},\n",
       "   'mutualFundSummary': {'accountId': 'a1b2c3d4-e5f6-7890-1234-567890abcdef',\n",
       "    'currentValue': {'currencyCode': 'INR', 'units': '169919'},\n",
       "    'holdingsInfo': [{'isin': 'INF179KB1HS3', 'folioNumber': '2002011001'},\n",
       "     {'isin': 'INF174V01BL6', 'folioNumber': '2002011001'},\n",
       "     {'isin': 'INF209K01YY1', 'folioNumber': '2002011001'}]}},\n",
       "  'b2c3d4e5-f6a7-8901-2345-67890abcdef1': {'accountDetails': {'fipId': 'fip@nsdl',\n",
       "    'maskedAccountNumber': 'XXXXXX0001',\n",
       "    'accInstrumentType': 'ACC_INSTRUMENT_TYPE_ETF',\n",
       "    'accountType': {'etfAccountType': 'ETF_ACCOUNT_TYPE_DEFAULT_TYPE'},\n",
       "    'fipMeta': {'name': 'National Securities Depository Limited',\n",
       "     'displayName': 'NSDL'}},\n",
       "   'etfSummary': {'accountId': 'b2c3d4e5-f6a7-8901-2345-67890abcdef1',\n",
       "    'currentValue': {'currencyCode': 'INR', 'units': '16815'},\n",
       "    'holdingsInfo': [{'isin': 'INF204KB17I9',\n",
       "      'units': 289.92,\n",
       "      'nav': {'currencyCode': 'INR', 'units': '58'},\n",
       "      'lastNavDate': '2024-06-15T00:00:00Z',\n",
       "      'isinDescription': 'HDFC Gold ETF'}]}},\n",
       "  'c3d4e5f6-a7b8-9012-3456-7890abcdef12': {'accountDetails': {'fipId': 'fip@epfo',\n",
       "    'maskedAccountNumber': 'KABN-XXXX-XXXX',\n",
       "    'accInstrumentType': 'ACC_INSTRUMENT_TYPE_EPF',\n",
       "    'accountType': {'epfAccountType': 'EPF_ACCOUNT_TYPE_DEFAULT_TYPE'},\n",
       "    'fipMeta': {'name': 'EPFO', 'displayName': 'EPFO'}},\n",
       "   'epfSummary': {'accountId': 'c3d4e5f6-a7b8-9012-3456-7890abcdef12',\n",
       "    'currentBalance': {'currencyCode': 'INR', 'units': '635000'},\n",
       "    'balanceDate': '2024-05-21T12:00:00Z'}},\n",
       "  'd4e5f6a7-b8c9-0123-4567-890abcdef123': {'accountDetails': {'fipId': 'SBI-FIP',\n",
       "    'maskedAccountNumber': 'XXXXXX1122',\n",
       "    'accInstrumentType': 'ACC_INSTRUMENT_TYPE_DEPOSIT',\n",
       "    'accountType': {'depositAccountType': 'DEPOSIT_ACCOUNT_TYPE_FIXED'},\n",
       "    'fipMeta': {'name': 'State Bank of India',\n",
       "     'displayName': 'SBI',\n",
       "     'bank': 'SBI'}},\n",
       "   'depositSummary': {'accountId': 'd4e5f6a7-b8c9-0123-4567-890abcdef123',\n",
       "    'currentBalance': {'currencyCode': 'INR', 'units': '500000'},\n",
       "    'balanceDate': '2024-06-15T10:00:00Z',\n",
       "    'depositAccountType': 'DEPOSIT_ACCOUNT_TYPE_FIXED',\n",
       "    'depositAccountStatus': 'DEPOSIT_ACCOUNT_STATUS_ACTIVE'}},\n",
       "  'e5f6a7b8-c9d0-1234-5678-90abcdef1234': {'accountDetails': {'fipId': 'ICICI-FIP',\n",
       "    'maskedAccountNumber': 'XXXXXX3344',\n",
       "    'accInstrumentType': 'ACC_INSTRUMENT_TYPE_RECURRING_DEPOSIT',\n",
       "    'accountType': {'recurringDepositAccountType': 'RECURRING_DEPOSIT_ACCOUNT_TYPE_RECURRING'},\n",
       "    'fipMeta': {'name': 'ICICI Bank',\n",
       "     'displayName': 'ICICI',\n",
       "     'bank': 'ICICI'}},\n",
       "   'recurringDepositSummary': {'accountId': 'e5f6a7b8-c9d0-1234-5678-90abcdef1234',\n",
       "    'currentPrincipalAmount': {'currencyCode': 'INR', 'units': '150000'},\n",
       "    'maturityDate': '2025-12-01T00:00:00Z'}},\n",
       "  'f6a7b8c9-d0e1-2345-6789-0abcdef12345': {'accountDetails': {'fipId': 'SBI-FIP',\n",
       "    'maskedAccountNumber': 'XXXXXX5566',\n",
       "    'accInstrumentType': 'ACC_INSTRUMENT_TYPE_DEPOSIT',\n",
       "    'accountType': {'depositAccountType': 'DEPOSIT_ACCOUNT_TYPE_SAVINGS'},\n",
       "    'fipMeta': {'name': 'State Bank of India',\n",
       "     'displayName': 'SBI',\n",
       "     'bank': 'SBI'}},\n",
       "   'depositSummary': {'accountId': 'f6a7b8c9-d0e1-2345-6789-0abcdef12345',\n",
       "    'currentBalance': {'currencyCode': 'INR', 'units': '250000'},\n",
       "    'balanceDate': '2024-06-15T18:00:00Z',\n",
       "    'depositAccountType': 'DEPOSIT_ACCOUNT_TYPE_SAVINGS',\n",
       "    'depositAccountStatus': 'DEPOSIT_ACCOUNT_STATUS_ACTIVE'}}}}"
      ]
     },
     "execution_count": 124,
     "metadata": {},
     "output_type": "execute_result"
    }
   ],
   "source": [
    "get_net_worth(list_user[1])['accountDetailsBulkResponse']"
   ]
  },
  {
   "cell_type": "code",
   "execution_count": null,
   "id": "d16552e9",
   "metadata": {},
   "outputs": [],
   "source": []
  }
 ],
 "metadata": {
  "kernelspec": {
   "display_name": "Python 3",
   "language": "python",
   "name": "python3"
  },
  "language_info": {
   "codemirror_mode": {
    "name": "ipython",
    "version": 3
   },
   "file_extension": ".py",
   "mimetype": "text/x-python",
   "name": "python",
   "nbconvert_exporter": "python",
   "pygments_lexer": "ipython3",
   "version": "3.12.1"
  }
 },
 "nbformat": 4,
 "nbformat_minor": 5
}
