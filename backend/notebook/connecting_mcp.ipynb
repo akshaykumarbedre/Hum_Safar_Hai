{
 "cells": [
  {
   "cell_type": "code",
   "execution_count": 1,
   "id": "79fc0f9b",
   "metadata": {},
   "outputs": [],
   "source": [
    "from dotenv import load_dotenv\n",
    "load_dotenv()\n",
    "\n",
    "from google.adk.agents import Agent\n",
    "from google.adk.tools.mcp_tool.mcp_toolset import MCPToolset, StreamableHTTPConnectionParams\n",
    "\n",
    "root_agent = Agent(\n",
    "    model=\"gemini-2.5-flash\",\n",
    "    name=\"financial_assistant\",\n",
    "    description=\"A helpful assistant for user questions.\",\n",
    "    instruction=f\"\"\"\\\n",
    "Answer user's questions about personal finance.\n",
    "You have access to the following tools:\n",
    "-fetch_net_worth\n",
    "-fetch_credit_report\n",
    "-fetch_epf_details\n",
    "-fetch_mf_transactions\n",
    "Use them when necessary to answer the user's questions.\n",
    "Note: when you call a tool for the first time, \n",
    "the tool will respond with an authentication link. \n",
    "Just give the message returned by the tool as it is to the user. \n",
    "Let the user authenticate and then you will receive a mcp session ID, remember this ID.\n",
    "Make the tool call once again \n",
    "after the user has confirmed that they have authenticated.\n",
    "    \"\"\",\n",
    "    tools=[\n",
    "        MCPToolset(\n",
    "            connection_params=StreamableHTTPConnectionParams(\n",
    "                url=\"http://localhost:8080/mcp/stream\",\n",
    "            ),\n",
    "        ),\n",
    "    ],\n",
    ")"
   ]
  },
  {
   "cell_type": "code",
   "execution_count": 2,
   "id": "b6509dff",
   "metadata": {},
   "outputs": [
    {
     "name": "stdout",
     "output_type": "stream",
     "text": [
      "Session created: App='financial_assistant_app', User='2222222222', Session='session_001'\n",
      "Runner created for agent 'financial_assistant'.\n"
     ]
    }
   ],
   "source": [
    "from google.adk.sessions import InMemorySessionService\n",
    "from google.adk.runners import Runner\n",
    "\n",
    "session_service = InMemorySessionService()\n",
    "\n",
    "# Define constants for identifying the interaction context\n",
    "APP_NAME = \"financial_assistant_app\"\n",
    "USER_ID = \"2222222222\"\n",
    "SESSION_ID = \"session_001\" # Using a fixed ID for simplicity\n",
    "\n",
    "# Create the specific session where the conversation will happen\n",
    "session = await session_service.create_session(\n",
    "    app_name=APP_NAME,\n",
    "    user_id=USER_ID,\n",
    "    session_id=SESSION_ID\n",
    ")\n",
    "print(f\"Session created: App='{APP_NAME}', User='{USER_ID}', Session='{SESSION_ID}'\")\n",
    "\n",
    "# --- Runner ---\n",
    "# Key Concept: Runner orchestrates the agent execution loop.\n",
    "runner = Runner(\n",
    "    agent=root_agent, # The agent we want to run\n",
    "    app_name=APP_NAME,   # Associates runs with our app\n",
    "    session_service=session_service # Uses our session manager\n",
    ")\n",
    "print(f\"Runner created for agent '{runner.agent.name}'.\")"
   ]
  },
  {
   "cell_type": "code",
   "execution_count": 3,
   "id": "5c4650f3",
   "metadata": {},
   "outputs": [],
   "source": [
    "from google.genai import types # For creating message Content/Parts\n",
    "\n",
    "async def call_agent_async(query: str, runner, user_id, session_id):\n",
    "  \"\"\"Sends a query to the agent and prints the final response.\"\"\"\n",
    "  print(f\"\\n>>> User Query: {query}\")\n",
    "\n",
    "  # Prepare the user's message in ADK format\n",
    "  content = types.Content(role='user', parts=[types.Part(text=query)])\n",
    "\n",
    "  final_response_text = \"Agent did not produce a final response.\" # Default\n",
    "\n",
    "  # Key Concept: run_async executes the agent logic and yields Events.\n",
    "  # We iterate through events to find the final answer.\n",
    "  async for event in runner.run_async(user_id=user_id, session_id=session_id, new_message=content):\n",
    "      # You can uncomment the line below to see *all* events during execution\n",
    "      # print(f\"  [Event] Author: {event.author}, Type: {type(event).__name__}, Final: {event.is_final_response()}, Content: {event.content}\")\n",
    "\n",
    "      # Key Concept: is_final_response() marks the concluding message for the turn.\n",
    "      if event.is_final_response():\n",
    "          if event.content and event.content.parts:\n",
    "             # Assuming text response in the first part\n",
    "             final_response_text = event.content.parts[0].text\n",
    "          elif event.actions and event.actions.escalate: # Handle potential errors/escalations\n",
    "             final_response_text = f\"Agent escalated: {event.error_message or 'No specific message.'}\"\n",
    "          # Add more checks here if needed (e.g., specific error codes)\n",
    "          break # Stop processing events once the final response is found\n",
    "\n",
    "  print(f\"<<< Agent Response: {final_response_text}\")"
   ]
  },
  {
   "cell_type": "code",
   "execution_count": 4,
   "id": "d6199abf",
   "metadata": {},
   "outputs": [
    {
     "name": "stderr",
     "output_type": "stream",
     "text": [
      "/Users/kirushikeshdb/Library/Caches/pypoetry/virtualenvs/humsafar-financial-ai-assistant-4inwsc2H-py3.11/lib/python3.11/site-packages/google/adk/tools/mcp_tool/mcp_tool.py:87: UserWarning: [EXPERIMENTAL] BaseAuthenticatedTool: This feature is experimental and may change or be removed in future versions without notice. It may introduce breaking changes at any time.\n",
      "  super().__init__(\n",
      "auth_config or auth_config.auth_scheme is missing. Will skip authentication.Using FunctionTool instead if authentication is not required.\n",
      "auth_config or auth_config.auth_scheme is missing. Will skip authentication.Using FunctionTool instead if authentication is not required.\n",
      "auth_config or auth_config.auth_scheme is missing. Will skip authentication.Using FunctionTool instead if authentication is not required.\n",
      "auth_config or auth_config.auth_scheme is missing. Will skip authentication.Using FunctionTool instead if authentication is not required.\n",
      "auth_config or auth_config.auth_scheme is missing. Will skip authentication.Using FunctionTool instead if authentication is not required.\n",
      "auth_config or auth_config.auth_scheme is missing. Will skip authentication.Using FunctionTool instead if authentication is not required.\n"
     ]
    },
    {
     "name": "stdout",
     "output_type": "stream",
     "text": [
      "\n",
      ">>> User Query: Hi my name is Kirushikesh, what can you do?\n",
      "<<< Agent Response: Hi Kirushikesh! I'm your personal financial assistant. I can help you with a variety of tasks related to your finances. Here are some of the things I can do:\n",
      "\n",
      "* **Fetch your net worth:** I can calculate your total net worth based on your linked bank accounts, investments (mutual funds, Indian and US stocks), EPF balance, and any outstanding debts.\n",
      "* **Retrieve your credit report:** I can get you a comprehensive credit report, including your credit score, loan details, credit card utilization, and payment history.\n",
      "* **Fetch your EPF details:** I can provide you with detailed information about your Employee Provident Fund account, such as your balance, contributions, and interest earned.\n",
      "* **Fetch your mutual fund transactions:** I can retrieve your detailed transaction history for your mutual fund investments.\n",
      "* **Fetch your bank transactions:** I can get you detailed transaction information from your linked bank accounts.\n",
      "* **Fetch your stock transactions:** I can retrieve your detailed transaction history for your Indian stock investments.\n",
      "\n",
      "What would you like to explore first?\n",
      "\n"
     ]
    }
   ],
   "source": [
    "await call_agent_async(\"Hi my name is Kirushikesh, what can you do?\",\n",
    "                                    runner=runner,\n",
    "                                    user_id=USER_ID,\n",
    "                                    session_id=SESSION_ID)"
   ]
  },
  {
   "cell_type": "code",
   "execution_count": 5,
   "id": "ee7975d4",
   "metadata": {},
   "outputs": [
    {
     "name": "stderr",
     "output_type": "stream",
     "text": [
      "auth_config or auth_config.auth_scheme is missing. Will skip authentication.Using FunctionTool instead if authentication is not required.\n",
      "auth_config or auth_config.auth_scheme is missing. Will skip authentication.Using FunctionTool instead if authentication is not required.\n",
      "auth_config or auth_config.auth_scheme is missing. Will skip authentication.Using FunctionTool instead if authentication is not required.\n",
      "auth_config or auth_config.auth_scheme is missing. Will skip authentication.Using FunctionTool instead if authentication is not required.\n",
      "auth_config or auth_config.auth_scheme is missing. Will skip authentication.Using FunctionTool instead if authentication is not required.\n",
      "auth_config or auth_config.auth_scheme is missing. Will skip authentication.Using FunctionTool instead if authentication is not required.\n"
     ]
    },
    {
     "name": "stdout",
     "output_type": "stream",
     "text": [
      "\n",
      ">>> User Query: hey finance assistant, do you know my name?\n",
      "<<< Agent Response: Yes, I do! You told me your name is Kirushikesh.\n"
     ]
    }
   ],
   "source": [
    "await call_agent_async(\"hey finance assistant, do you know my name?\",\n",
    "                                       runner=runner,\n",
    "                                       user_id=USER_ID,\n",
    "                                       session_id=SESSION_ID)"
   ]
  },
  {
   "cell_type": "code",
   "execution_count": 6,
   "id": "b16b07f0",
   "metadata": {},
   "outputs": [
    {
     "name": "stderr",
     "output_type": "stream",
     "text": [
      "auth_config or auth_config.auth_scheme is missing. Will skip authentication.Using FunctionTool instead if authentication is not required.\n",
      "auth_config or auth_config.auth_scheme is missing. Will skip authentication.Using FunctionTool instead if authentication is not required.\n",
      "auth_config or auth_config.auth_scheme is missing. Will skip authentication.Using FunctionTool instead if authentication is not required.\n",
      "auth_config or auth_config.auth_scheme is missing. Will skip authentication.Using FunctionTool instead if authentication is not required.\n",
      "auth_config or auth_config.auth_scheme is missing. Will skip authentication.Using FunctionTool instead if authentication is not required.\n",
      "auth_config or auth_config.auth_scheme is missing. Will skip authentication.Using FunctionTool instead if authentication is not required.\n"
     ]
    },
    {
     "name": "stdout",
     "output_type": "stream",
     "text": [
      "\n",
      ">>> User Query: Can you tell me my net worth?\n"
     ]
    },
    {
     "name": "stderr",
     "output_type": "stream",
     "text": [
      "Warning: there are non-text parts in the response: ['function_call'], returning concatenated text result from text parts. Check the full candidates.content.parts accessor to get the full model response.\n",
      "auth_config or auth_config.auth_scheme is missing. Will skip authentication.Using FunctionTool instead if authentication is not required.\n",
      "auth_config or auth_config.auth_scheme is missing. Will skip authentication.Using FunctionTool instead if authentication is not required.\n",
      "auth_config or auth_config.auth_scheme is missing. Will skip authentication.Using FunctionTool instead if authentication is not required.\n",
      "auth_config or auth_config.auth_scheme is missing. Will skip authentication.Using FunctionTool instead if authentication is not required.\n",
      "auth_config or auth_config.auth_scheme is missing. Will skip authentication.Using FunctionTool instead if authentication is not required.\n",
      "auth_config or auth_config.auth_scheme is missing. Will skip authentication.Using FunctionTool instead if authentication is not required.\n"
     ]
    },
    {
     "name": "stdout",
     "output_type": "stream",
     "text": [
      "<<< Agent Response: I can help you with that. It looks like you need to log in first. Please visit this link to log in: http://localhost:8080/mockWebPage?sessionId=mcp-session-fb131251-23ae-43b2-805d-45ba0e045294\n",
      "\n",
      "Once you've logged in, please let me know, and I'll fetch your net worth for you.\n",
      "\n"
     ]
    }
   ],
   "source": [
    "await call_agent_async(\"Can you tell me my net worth?\",\n",
    "                                       runner=runner,\n",
    "                                       user_id=USER_ID,\n",
    "                                       session_id=SESSION_ID)"
   ]
  },
  {
   "cell_type": "code",
   "execution_count": 7,
   "id": "95f03361",
   "metadata": {},
   "outputs": [
    {
     "name": "stderr",
     "output_type": "stream",
     "text": [
      "auth_config or auth_config.auth_scheme is missing. Will skip authentication.Using FunctionTool instead if authentication is not required.\n",
      "auth_config or auth_config.auth_scheme is missing. Will skip authentication.Using FunctionTool instead if authentication is not required.\n",
      "auth_config or auth_config.auth_scheme is missing. Will skip authentication.Using FunctionTool instead if authentication is not required.\n",
      "auth_config or auth_config.auth_scheme is missing. Will skip authentication.Using FunctionTool instead if authentication is not required.\n",
      "auth_config or auth_config.auth_scheme is missing. Will skip authentication.Using FunctionTool instead if authentication is not required.\n",
      "auth_config or auth_config.auth_scheme is missing. Will skip authentication.Using FunctionTool instead if authentication is not required.\n"
     ]
    },
    {
     "name": "stdout",
     "output_type": "stream",
     "text": [
      "\n",
      ">>> User Query: I have authenticated\n"
     ]
    },
    {
     "name": "stderr",
     "output_type": "stream",
     "text": [
      "Warning: there are non-text parts in the response: ['function_call'], returning concatenated text result from text parts. Check the full candidates.content.parts accessor to get the full model response.\n",
      "auth_config or auth_config.auth_scheme is missing. Will skip authentication.Using FunctionTool instead if authentication is not required.\n",
      "auth_config or auth_config.auth_scheme is missing. Will skip authentication.Using FunctionTool instead if authentication is not required.\n",
      "auth_config or auth_config.auth_scheme is missing. Will skip authentication.Using FunctionTool instead if authentication is not required.\n",
      "auth_config or auth_config.auth_scheme is missing. Will skip authentication.Using FunctionTool instead if authentication is not required.\n",
      "auth_config or auth_config.auth_scheme is missing. Will skip authentication.Using FunctionTool instead if authentication is not required.\n",
      "auth_config or auth_config.auth_scheme is missing. Will skip authentication.Using FunctionTool instead if authentication is not required.\n"
     ]
    },
    {
     "name": "stdout",
     "output_type": "stream",
     "text": [
      "<<< Agent Response: Your total net worth is INR 1,360,797.\n",
      "\n",
      "Here's a breakdown of your assets:\n",
      "*   **Mutual Funds:** INR 177,605\n",
      "*   **EPF:** INR 211,111\n",
      "*   **Indian Securities:** INR 200,642\n",
      "*   **Savings Accounts:** INR 740,841\n",
      "*   **US Securities:** INR 30,598\n"
     ]
    }
   ],
   "source": [
    "await call_agent_async(\"I have authenticated\",\n",
    "                                       runner=runner,\n",
    "                                       user_id=USER_ID,\n",
    "                                       session_id=SESSION_ID)\n"
   ]
  },
  {
   "cell_type": "code",
   "execution_count": null,
   "id": "75acdaf0",
   "metadata": {},
   "outputs": [],
   "source": []
  },
  {
   "cell_type": "code",
   "execution_count": 8,
   "id": "ffda97b0",
   "metadata": {},
   "outputs": [
    {
     "name": "stderr",
     "output_type": "stream",
     "text": [
      "auth_config or auth_config.auth_scheme is missing. Will skip authentication.Using FunctionTool instead if authentication is not required.\n",
      "auth_config or auth_config.auth_scheme is missing. Will skip authentication.Using FunctionTool instead if authentication is not required.\n",
      "auth_config or auth_config.auth_scheme is missing. Will skip authentication.Using FunctionTool instead if authentication is not required.\n",
      "auth_config or auth_config.auth_scheme is missing. Will skip authentication.Using FunctionTool instead if authentication is not required.\n",
      "auth_config or auth_config.auth_scheme is missing. Will skip authentication.Using FunctionTool instead if authentication is not required.\n",
      "auth_config or auth_config.auth_scheme is missing. Will skip authentication.Using FunctionTool instead if authentication is not required.\n"
     ]
    },
    {
     "name": "stdout",
     "output_type": "stream",
     "text": [
      "\n",
      ">>> User Query: Can you summarize my bank statements?\n",
      "<<< Agent Response: I can fetch your detailed bank transactions for all accounts connected to Fi Money. However, I cannot summarize them for you in terms of categorizing expenses or providing spending insights. Would you like to see your detailed bank transactions?\n"
     ]
    }
   ],
   "source": [
    "await call_agent_async(\"Can you summarize my bank statements?\",\n",
    "                                       runner=runner,\n",
    "                                       user_id=USER_ID,\n",
    "                                       session_id=SESSION_ID)\n"
   ]
  },
  {
   "cell_type": "code",
   "execution_count": 9,
   "id": "9d343d40",
   "metadata": {},
   "outputs": [
    {
     "name": "stderr",
     "output_type": "stream",
     "text": [
      "auth_config or auth_config.auth_scheme is missing. Will skip authentication.Using FunctionTool instead if authentication is not required.\n",
      "auth_config or auth_config.auth_scheme is missing. Will skip authentication.Using FunctionTool instead if authentication is not required.\n",
      "auth_config or auth_config.auth_scheme is missing. Will skip authentication.Using FunctionTool instead if authentication is not required.\n",
      "auth_config or auth_config.auth_scheme is missing. Will skip authentication.Using FunctionTool instead if authentication is not required.\n",
      "auth_config or auth_config.auth_scheme is missing. Will skip authentication.Using FunctionTool instead if authentication is not required.\n",
      "auth_config or auth_config.auth_scheme is missing. Will skip authentication.Using FunctionTool instead if authentication is not required.\n"
     ]
    },
    {
     "name": "stdout",
     "output_type": "stream",
     "text": [
      "\n",
      ">>> User Query: yes please\n"
     ]
    },
    {
     "name": "stderr",
     "output_type": "stream",
     "text": [
      "Warning: there are non-text parts in the response: ['function_call'], returning concatenated text result from text parts. Check the full candidates.content.parts accessor to get the full model response.\n",
      "auth_config or auth_config.auth_scheme is missing. Will skip authentication.Using FunctionTool instead if authentication is not required.\n",
      "auth_config or auth_config.auth_scheme is missing. Will skip authentication.Using FunctionTool instead if authentication is not required.\n",
      "auth_config or auth_config.auth_scheme is missing. Will skip authentication.Using FunctionTool instead if authentication is not required.\n",
      "auth_config or auth_config.auth_scheme is missing. Will skip authentication.Using FunctionTool instead if authentication is not required.\n",
      "auth_config or auth_config.auth_scheme is missing. Will skip authentication.Using FunctionTool instead if authentication is not required.\n",
      "auth_config or auth_config.auth_scheme is missing. Will skip authentication.Using FunctionTool instead if authentication is not required.\n"
     ]
    },
    {
     "name": "stdout",
     "output_type": "stream",
     "text": [
      "<<< Agent Response: I have retrieved your bank transactions. You can see transactions from HDFC Bank and Union Bank. Each transaction includes the amount, narration, date, type (e.g., CREDIT, DEBIT), mode (e.g., ATM, UPI), and current balance.\n",
      "\n",
      "Please note that I currently only have access to the last two months of transactions.\n",
      "\n",
      "Would you like to see the details for a specific bank or are you looking for anything else?\n",
      "\n"
     ]
    }
   ],
   "source": [
    "await call_agent_async(\"yes please\",\n",
    "                                       runner=runner,\n",
    "                                       user_id=USER_ID,\n",
    "                                       session_id=SESSION_ID)\n"
   ]
  },
  {
   "cell_type": "code",
   "execution_count": null,
   "id": "8e9473eb",
   "metadata": {},
   "outputs": [],
   "source": []
  },
  {
   "cell_type": "code",
   "execution_count": 24,
   "id": "bd95ccac",
   "metadata": {},
   "outputs": [],
   "source": [
    "tool_set = MCPToolset(\n",
    "    connection_params=StreamableHTTPConnectionParams(\n",
    "        url=\"http://localhost:8080/mcp/stream\",\n",
    "    ),\n",
    ")"
   ]
  },
  {
   "cell_type": "code",
   "execution_count": 25,
   "id": "aa72d0c3",
   "metadata": {},
   "outputs": [
    {
     "name": "stderr",
     "output_type": "stream",
     "text": [
      "/Users/kirushikeshdb/Library/Caches/pypoetry/virtualenvs/humsafar-financial-ai-assistant-4inwsc2H-py3.11/lib/python3.11/site-packages/google/adk/tools/mcp_tool/mcp_tool.py:87: UserWarning: [EXPERIMENTAL] BaseAuthenticatedTool: This feature is experimental and may change or be removed in future versions without notice. It may introduce breaking changes at any time.\n",
      "  super().__init__(\n",
      "auth_config or auth_config.auth_scheme is missing. Will skip authentication.Using FunctionTool instead if authentication is not required.\n",
      "auth_config or auth_config.auth_scheme is missing. Will skip authentication.Using FunctionTool instead if authentication is not required.\n",
      "auth_config or auth_config.auth_scheme is missing. Will skip authentication.Using FunctionTool instead if authentication is not required.\n",
      "auth_config or auth_config.auth_scheme is missing. Will skip authentication.Using FunctionTool instead if authentication is not required.\n",
      "auth_config or auth_config.auth_scheme is missing. Will skip authentication.Using FunctionTool instead if authentication is not required.\n",
      "auth_config or auth_config.auth_scheme is missing. Will skip authentication.Using FunctionTool instead if authentication is not required.\n"
     ]
    }
   ],
   "source": [
    "tools = await tool_set.get_tools()"
   ]
  },
  {
   "cell_type": "code",
   "execution_count": 34,
   "id": "b79cdb2a",
   "metadata": {},
   "outputs": [
    {
     "data": {
      "text/plain": [
       "CallToolResult(meta=None, content=[TextContent(type='text', text='{\"status\": \"login_required\",\"login_url\": \"http://localhost:8080/mockWebPage?sessionId=mcp-session-5d1e2d69-2c9f-4d44-aa8f-80499bbd7738\",\"message\": \"Needs to login first by going to the login url.\\\\nShow the login url as clickable link if client supports it. Otherwise display the URL for users to copy and paste into a browser. \\\\nAsk users to come back and let you know once they are done with login in their browser\"}', annotations=None, meta=None)], structuredContent=None, isError=False)"
      ]
     },
     "execution_count": 34,
     "metadata": {},
     "output_type": "execute_result"
    }
   ],
   "source": [
    "await tools[0].run_async(args={}, tool_context=None)"
   ]
  },
  {
   "cell_type": "code",
   "execution_count": 35,
   "id": "5c988a52",
   "metadata": {},
   "outputs": [
    {
     "data": {
      "text/plain": [
       "CallToolResult(meta=None, content=[TextContent(type='text', text='{\"schemaDescription\":\"A list of bank transactions. Each \\'txns\\' field is a list of data arrays with schema: [transactionAmount, transactionNarration, transactionDate, transactionType (1 for CREDIT, 2 for DEBIT, 3 for OPENING, 4 for INTEREST, 5 for TDS, 6 for INSTALLMENT, 7 for CLOSING and 8 for OTHERS), transactionMode, currentBalance].\\\\n We currently have have only last two month transaction, older transaction are coming soon...\", \"bankTransactions\":[{\"bank\":\"HDFC Bank\", \"txns\":[[\"80072\", \"UPI-MR MOHAMMED ZAHEERUL-8884442498@YBL-IDIB000B041-118513918994-PAYMENT FROM PHONE\", \"2025-07-09\", 2, \"ATM\", \"3676\"], [\"80558\", \"UPI-SWIGGY-SWIGGY8@YBL-YESB0YBLUPI-104264587845-PAYMENT FROM PHONE\", \"2025-07-09\", 1, \"OTHERS\", \"-76396\"], [\"80415\", \"UPI-CRED-CRED@AXISB-UTIB0000114-030309272514-CREDIT CARD BILL P\", \"2025-07-09\", 1, \"CARD_PAYMENT\", \"-76246\"], [\"80408\", \"UPI-ACT BROADBAND-PAYTM-ACTBAN4@PAYTM-PYTM0123456-016839849023-PAYMENT FOR SUBSCR\", \"2025-07-09\", 2, \"CARD_PAYMENT\", \"4162\"], [\"80631\", \"CHQ PAID-MICR CTS-NO-SR POST MASTER  HPO\", \"2025-07-09\", 1, \"ATM\", \"-76104\"], [\"80273\", \"UPI-SATYA NARAYAN BEHER-8328853083@YBL-SBIN0002112-126364354416-PAYMENT FROM PHONE\", \"2025-07-09\", 2, \"CARD_PAYMENT\", \"4169\"], [\"80870\", \"UPI-BHARATPEMERCHANT-BHARATPE.0850487682@ICICI-ICIC0000001-031703603873-PAYMENT FROM PHONE\", \"2025-07-09\", 1, \"OTHERS\", \"-76018\"], [\"80545\", \"UPI-SRI BRAHMALINGESHWAR-PAYTMQR28100505010113CV8CXTZUHG@PAYTM-PYTM0123456-033363246388-PAYMENT FROM PHONE\", \"2025-07-09\", 2, \"FT\", \"4527\"], [\"80581\", \"UPI-SIDDHANT KUMAR-SIDDHANTKUMAR171@DBS-DBSS0IN0811-101012491647-AMAZON NORD PAYMEN\", \"2025-07-09\", 1, \"ATM\", \"-75356\"], [\"80208\", \"UPI-CRED-CRED@AXISB-UTIB0000114-112115658127-PAYMENT ON CRED\", \"2025-07-09\", 2, \"CARD_PAYMENT\", \"4852\"], [\"80203\", \"UPI-DREAMPLUG TECHNOLOGI-CRED@AXISB-UTIB0000114-027200895296-CREDIT CARD BILL P\", \"2025-07-07\", 1, \"OTHERS\", \"-74684\"], [\"80547\", \"UPI-ACT BROADBAND-PAYTM-ACTBAN4@PAYTM-PYTM0123456-016839849023-PAYMENT FOR SUBSCR\", \"2025-07-07\", 2, \"OTHERS\", \"5863\"], [\"80935\", \"SALARY FROM MEDISYNC HEALTH MANAGEMENT SERVICES P L\", \"2025-07-07\", 1, \"OTHERS\", \"-75168\"], [\"80687\", \"UPI-SANJAY AGRAWAL-SANJAY30AGRAWAL@OKICICI-ICIC0000274-100922596493-TRANSFER\", \"2025-07-07\", 2, \"CASH\", \"5519\"], [\"80304\", \"NEFT CR-CITI0100000-FTMF REDEMPTION ACCOUNT-PRATEEK PATNAIK-CITIN20100690483\", \"2025-07-07\", 2, \"CARD_PAYMENT\", \"5767\"], [\"80713\", \"UPI-SWIGGY-SWIGGY8@YBL-YESB0YBLUPI-101783205806-PAYMENT FROM PHONE\", \"2025-07-07\", 1, \"OTHERS\", \"-74537\"], [\"80852\", \"UPI-CRED-CREDCC@YESBANK-YESB0000022-018492205316-CREDIT CARD BILL P\", \"2025-07-07\", 2, \"FT\", \"6176\"], [\"80572\", \"UPI-PHONEPE-BILLDESKPP@YBL-YESB0YBLUPI-104831200709-PAYMENT FROM PHONE\", \"2025-07-07\", 1, \"CASH\", \"-74676\"], [\"80448\", \"INST-ALERT CHG INC GST OCT-DEC2020-MIR2101402042013\", \"2025-07-07\", 1, \"CARD_PAYMENT\", \"-74642\"], [\"80538\", \"UPI-PRADIP KUMAR -PADDI6877@OKHDFCBANK-SBIN0040171-122195037544-UPI\", \"2025-07-07\", 2, \"OTHERS\", \"5896\"]]}, {\"bank\":\"IDFC Bank\", \"txns\":[[\"80391\", \"UPI-HOTEL SAVITHA-PAYTMQR28100505010113DKDV819USD@PAYTM-PYTM0123456-028604517463-PAYMENT FROM PHONE\", \"2025-07-09\", 1, \"ATM\", \"24446\"], [\"80642\", \"UPI-RANGANATHA-9964509119@YBL-IBKL0000693-031841592437-PAYMENT FROM PHONE\", \"2025-07-09\", 2, \"CARD_PAYMENT\", \"105088\"], [\"80838\", \"UPI RET-2020-04-16-010709165412\", \"2025-07-09\", 1, \"CARD_PAYMENT\", \"23886\"], [\"80951\", \"UPI-PHONEPE-PHONEPEUPITOPUP@YBL-YESB0YBLUPI-034274411173-WALLET TOPUP\", \"2025-07-09\", 2, \"ATM\", \"104837\"], [\"80334\", \"IMPS-009401112115-SANDIP PATIL-CNRB-XXXXXXXXX7346-RENT\", \"2025-07-09\", 1, \"OTHERS\", \"24557\"], [\"80167\", \"UPI-NIPUN GUPTA-7NIPUN7-1@OKICICI-KKBK0000430-003314881593-RENT\", \"2025-07-09\", 2, \"ATM\", \"104724\"], [\"80314\", \"UPI-PREETHI CHIDANANDA-PREETHI.CHIDANANDA-1@OKAXIS-HDFC0000053-101011617232-UPI\", \"2025-07-09\", 2, \"FT\", \"104891\"], [\"80443\", \"UPI-SUDHANVA MADHURAO RA-7760615177@YBL-HDFC0000877-015456371091-PAYMENT FROM PHONE\", \"2025-07-09\", 1, \"CARD_PAYMENT\", \"24577\"], [\"80479\", \"UPI-AISHWARYA MINI MART-Q09390218@YBL-YESB0YBLUPI-120009291644-PAYMENT FROM PHONE\", \"2025-07-09\", 2, \"CARD_PAYMENT\", \"105020\"], [\"80994\", \"NEFT DR-IDIB000S176-PRATEEK PATNAIK-NETBANK, MUM-N339201328608485-LOAN CLOSURE\", \"2025-07-09\", 1, \"CASH\", \"24541\"]]}, {\"bank\":\"IDFC Bank\", \"txns\":[[\"80925\", \"UPI-DUNZO-DUNZO.PAYU@AXISBANK-UTIB0000000-108385554342-PAYMENT FROM PHONE\", \"2025-07-09\", 2, \"FT\", \"109744\"], [\"80714\", \"UPI-XXXXXX4811-IDIB0000001-101911439713-PAYMENT FROM PHONE\", \"2025-07-09\", 1, \"CARD_PAYMENT\", \"28819\"], [\"80393\", \"UPI-SWIGGY-SWIGGY8@YBL-YESB0YBLUPI-101783205806-PAYMENT FROM PHONE\", \"2025-07-09\", 1, \"CARD_PAYMENT\", \"29070\"], [\"80463\", \"UPI-LAZYPAY-LAZYPAY@AXISBANK-UTIB0000000-010716764929-LAZY PAY REPAYMENT\", \"2025-07-09\", 2, \"CASH\", \"109533\"], [\"80267\", \"UPI-SWIGGY-SWIGGY8@YBL-YESB0YBLUPI-101783205806-PAYMENT FROM PHONE\", \"2025-07-09\", 2, \"CARD_PAYMENT\", \"109463\"], [\"80134\", \"UPI-DIVYA DAS-DIVYADAS91@OKHDFCBANK-HDFC0002777-016519304334-UPI\", \"2025-07-09\", 1, \"CARD_PAYMENT\", \"29196\"], [\"80930\", \"UPI-NIRMALA-BHARATPE.9051441401@FBPE-FDRL0001382-101632969524-PAYMENT FROM PHONE\", \"2025-07-09\", 2, \"CARD_PAYMENT\", \"109330\"], [\"80643\", \"NEFT DR-IDIB000S176-PRATEEK PATNAIK-NETBANK, MUM-N276201262219272-EMI\", \"2025-07-09\", 1, \"FT\", \"28400\"], [\"80456\", \"UPI-G V MANJUNATHA-9945481125@YBL-HDFC0000714-025740040637-R806\", \"2025-07-09\", 2, \"CARD_PAYMENT\", \"109043\"], [\"80075\", \"UPI-FX MART PRIVATE LIMI-FXM@YBL-YESB0YBLUPI-010666437303-WALLET TOPUP\", \"2025-07-09\", 1, \"CASH\", \"28587\"]]}, {\"bank\":\"Union Bank\", \"txns\":[[\"80963\", \"50400204367581- RD INSTALLMENT-NOV 2020\", \"2025-07-09\", 1, \"CARD_PAYMENT\", \"-73863\"], [\"80476\", \"UPI-GET SIMPL TECHNOLOGI-GETSIMPL.RAZORPAY@HDFCBANK-HDFC0000053-009511896593-SIMPL REPAYMENT TO\", \"2025-07-09\", 2, \"CARD_PAYMENT\", \"6613\"], [\"80514\", \"UPI-OLA-OLAONLINE@YBL-YESB0YBLUPI-126041436693-PAYMENT FOR C9725A\", \"2025-07-09\", 2, \"CARD_PAYMENT\", \"7100\"], [\"80050\", \"UPI-XXXXXX6863-SBIN0040403-009512193461-PAYMENT FROM PHONE\", \"2025-07-09\", 1, \"CASH\", \"-73414\"], [\"80711\", \"UPI-AIRTEL HDFC UPI MAST-AIRTELIN.RZP@AXISBANK-UTIB0001507-105543920647-PAYMENT FROM PHONE\", \"2025-07-09\", 1, \"CARD_PAYMENT\", \"-73924\"], [\"80560\", \"UPI-SONYLIV-SONYLIV.RZP@AXISBANK-UTIB0001507-121615436535- SONY PICTURES NET\", \"2025-07-09\", 2, \"CARD_PAYMENT\", \"6636\"], [\"80493\", \"UPI-GET SIMPL TECHNOLOGI-GETSIMPL.RAZORPAY@HDFCBANK-HDFC0000053-009511896593-SIMPL REPAYMENT TO\", \"2025-07-09\", 2, \"FT\", \"6787\"], [\"80782\", \"UPI-CREDCLUB-CREDCLUB@ICICI-ICIC0000001-036217802839-CREDIT CARD BILL P\", \"2025-07-09\", 1, \"OTHERS\", \"-73706\"], [\"80417\", \"UPI-SYED YOUSUF-9113296096@YBL-KKBK0008058-015252177333-PAYMENT FROM PHONE\", \"2025-07-09\", 2, \"CARD_PAYMENT\", \"7076\"], [\"80978\", \"UPI-UBER INDIA SYSTEMS P-UBERRIDES@HDFCBANK-HDFC0000499-108051658151-PAYMENT FROM PHONE\", \"2025-07-09\", 1, \"CARD_PAYMENT\", \"-73341\"], [\"80927\", \"UPI-BHARATPE MERCHANT-BHARATPE90718510059@YESBANKLTD-YESB0000004-017244208980-VERIFIED MERCHANT\", \"2025-06-27\", 1, \"FT\", \"27920\"], [\"80207\", \"UPI-CREDCLUB-CREDCLUB@ICICI-ICIC0000001-030519746862-CREDIT CARD BILL P\", \"2025-06-27\", 2, \"OTHERS\", \"108127\"], [\"80027\", \"UPI-UBER INDIA SYSTEMS P-UBERRIDES@HDFCBANK-HDFC0000499-105117853141-CHARGE\", \"2025-05-27\", 1, \"CASH\", \"27869\"], [\"80978\", \"UPI-HARDIK  AGRAWAL-HARDIK0406AGRAWAL@OKSBI-SBIN0030261-028317839465-SAVINGS\", \"2025-05-27\", 2, \"ATM\", \"108847\"]]}, {\"bank\":\"Union Bank\", \"txns\":[[\"80051\", \"UPI-DREAMPLUG TECHNOLOGI-CRED@AXISB-UTIB0000114-019923935948-CREDIT CARD BILL P\", \"2025-07-09\", 2, \"FT\", \"9914\"], [\"80961\", \"UPI-XXXXXX9746-HDFC0000001-028779399607-PAYMENT FROM PHONE\", \"2025-07-09\", 1, \"FT\", \"-70137\"], [\"80786\", \"UPI-SANJAY AGRAWAL-SANJAY30AGRAWAL@OKICICI-ICIC0000274-032522377475-TEST\", \"2025-07-09\", 2, \"OTHERS\", \"10824\"], [\"80267\", \".IMPS P2P 029015173519#16/10/2020 161020-MIR2030035732768\", \"2025-07-09\", 1, \"FT\", \"-69962\"], [\"80099\", \"UPI-SRI GANESH FRUIT JUI-PAYTMQR2810050501013Q7XKZT6R7PB@PAYTM-PYTM0123456-108157562234-PAYMENT FROM PHONE\", \"2025-07-09\", 2, \"CARD_PAYMENT\", \"10305\"], [\"80550\", \"UPI-PRATEEK PATNAIK-9686165933@YBL-HDFC0000523-106183952786-PAYMENT FROM PHONE\", \"2025-07-09\", 1, \"FT\", \"-69794\"], [\"80827\", \"UPI-AIRTEL HDFC UPI MAST-AIRTELIN.RZP@AXISBANK-UTIB0001507-104625743564-PAYMENT FROM PHONE\", \"2025-07-09\", 2, \"CASH\", \"10756\"], [\"80519\", \"UPI-PRATEEK PATNAIK-9686165933@YBL-HDFC0000523-033909369796-PAYMENT FROM PHONE\", \"2025-07-09\", 1, \"CARD_PAYMENT\", \"-70071\"], [\"80690\", \"UPI-PHONEPE-PHONEPEUPITOPUP@YBL-YESB0YBLUPI-030878345040-WALLET TOPUP\", \"2025-07-09\", 2, \"ATM\", \"10448\"], [\"80638\", \"UPI-CREDCLUB-CREDCLUB@ICICI-ICIC0000001-033624490024-PAYMENT FROM PHONE\", \"2025-07-09\", 1, \"CARD_PAYMENT\", \"-70242\"], [\"80445\", \"UPI-ANUJ MITTAL-ANUJMITTAL0801@OKHDFCBANK-HDFC0004460-003213587079-UPI\", \"2025-06-27\", 2, \"CARD_PAYMENT\", \"107803\"], [\"80905\", \"UPI-HDFC BANK LTD FASTAG-NETC.KA01ML2012@HDFCBANK-HDFC0009956-015414647453-PAYMENT FROM PHONE\", \"2025-06-27\", 1, \"CASH\", \"27358\"], [\"80113\", \"UPI-ANUJ MITTAL-ANUJMITTAL0801@OKHDFCBANK-HDFC0004460-003213587079-UPI\", \"2025-05-27\", 2, \"CASH\", \"108263\"], [\"80298\", \"UPI-PARASHIVAMURTHY K S-9206954818@YBL-SYNB0001562-014438416783-PAYMENT FROM PHONE\", \"2025-05-27\", 1, \"CASH\", \"28150\"]]}, {\"bank\":\"HDFC Bank\", \"txns\":[[\"80677\", \"UPI-DREAMPLUG TECHNOLOGI-CRED@AXISB-UTIB0000114-009400589368-CREDIT CARD BILL P\", \"2025-07-09\", 2, \"FT\", \"1568\"], [\"80085\", \"UPI-SHEETAL RAVINDRA DA-SHEETAL.DAMBAL@OKSBI-SBIN0010411-109209224698-SUFYAN\", \"2025-07-09\", 1, \"CARD_PAYMENT\", \"-79109\"], [\"80267\", \"UPI-RAVISHANKAR-Q78015288@YBL-YESB0YBLUPI-123535728297-PAYMENT FROM PHONE\", \"2025-07-09\", 1, \"OTHERS\", \"-79180\"], [\"80156\", \"UPI-HARDIK  AGRAWAL-9971488189.NIYO@IDFCBANK-IDFB0040101-031108651605-UPI\", \"2025-07-09\", 2, \"OTHERS\", \"976\"], [\"80565\", \"UPI-UBER INDIA SYSTEMS P-UBERRIDES@HDFCBANK-HDFC0000499-105117853141-CHARGE\", \"2025-07-09\", 2, \"OTHERS\", \"1087\"], [\"80016\", \"UPI-ABDESH KUMAR YADAV-PAYTMQR28100505010117UM15XIYV9E@PAYTM-PYTM0123456-120209292799-PAYMENT FROM PHONE\", \"2025-07-09\", 1, \"CASH\", \"-79478\"], [\"80287\", \"UPI-TREND AUTOMOBILES-105302393@CNRB-CNRB0001074-035222057565-PAYMENT FROM PHONE\", \"2025-07-09\", 1, \"CASH\", \"-80230\"], [\"80768\", \"CREDIT INTEREST CAPITALISED\", \"2025-07-09\", 2, \"OTHERS\", \"538\"], [\"80083\", \"UPI-MAHESH S-Q60573690@YBL-KKBK0008043-104558209248-PAYMENT FROM PHONE\", \"2025-07-09\", 2, \"ATM\", \"57\"], [\"80984\", \"UPI-SWIGGY-SWIGGY8@YBL-YESB0YBLUPI-101057836776-PAYMENT FROM PHONE\", \"2025-07-09\", 1, \"CASH\", \"-80026\"], [\"80741\", \"IMPS-018422244664-ADITYA BIRLA SUN LIF-HDFC-XXXXXXXX3578-RD3192534-1038644104\", \"2025-07-07\", 2, \"CASH\", \"5494\"], [\"80994\", \"50200015847022SALAUG 20 108621\", \"2025-07-07\", 1, \"CARD_PAYMENT\", \"-75247\"], [\"80978\", \"UPI-PARSURAMPURAM SRINIV-6370242870@YBL-ORBC0101157-031627719147-PAYMENT FROM PHONE\", \"2025-07-07\", 2, \"CARD_PAYMENT\", \"5747\"], [\"80326\", \"UPI-CRED-CRED@AXISB-UTIB0000114-103219881988-CREDIT CARD BILL P\", \"2025-07-07\", 1, \"CASH\", \"-75231\"], [\"80769\", \"UPI-DREAMPLUG TECHNOLOGI-CRED@AXISB-UTIB0000114-023113790606-CREDIT CARD BILL P\", \"2025-07-07\", 1, \"CASH\", \"-75437\"], [\"80532\", \"UPI-PINTU GUPTA-PAYTMQR281005050101LK22YFGX0QRX@PAYTM-PYTM0123456-127404613871-PAYMENT FROM PHONE\", \"2025-07-07\", 2, \"CARD_PAYMENT\", \"5095\"], [\"80278\", \"NWD-438624XXXXXX3427-08887405-BANGALORE MET\", \"2025-07-07\", 1, \"FT\", \"-75138\"], [\"80470\", \"UPI-EURONETGPAY-EURONETGPAY.PAY@ICICI-ICIC0000001-035512416953-UPI\", \"2025-07-07\", 2, \"ATM\", \"5332\"], [\"80806\", \"CREDIT INTEREST CAPITALISED\", \"2025-07-07\", 1, \"FT\", \"-75648\"], [\"80788\", \"UPI-MD JAHANGIR-BHARATPE09892849123@YESBANKLTD-YESB0000105-102038302659-PAYMENT FROM PHONE\", \"2025-07-07\", 2, \"CARD_PAYMENT\", \"5140\"]]}, {\"bank\":\"HDFC Bank\", \"txns\":[[\"80805\", \"ACH C- TCS1STINTDIV310720-C2003055611208\", \"2025-07-09\", 2, \"ATM\", \"3481\"], [\"80559\", \"UPI-AISHWARYA MINI MART-Q36365093@YBL-YESB0YBLUPI-104642349580-PAYMENT FROM PHONE\", \"2025-07-09\", 1, \"OTHERS\", \"-77324\"], [\"80050\", \"UPI-DUNZO DIGITAL PRIVAT-DUNZO1.PAYU@INDUS-INDB0002201-104767620300-PAYMENT FROM PHONE\", \"2025-07-09\", 1, \"CARD_PAYMENT\", \"-77614\"], [\"80849\", \"UPI-PHONEPE-BILLDESKPP@YBL-YESB0YBLUPI-022533819900-PAYMENT FOR CATEGO\", \"2025-07-09\", 2, \"FT\", \"3235\"], [\"80037\", \"UPI-SAFE GOLD-SAFEGOLD@YBL-YESB0YBLUPI-016220690358-PAYMENT FOR CATEGO\", \"2025-07-09\", 1, \"CARD_PAYMENT\", \"-77873\"], [\"80309\", \"UPI-SANJAY AGRAWAL-SANJAY30AGRAWAL@OKICICI-ICIC0000274-100922596493-TRANSFER\", \"2025-07-09\", 2, \"CARD_PAYMENT\", \"2436\"], [\"80941\", \"UPI-DIVYA DAS-DIVYADAS91@OKHDFCBANK-HDFC0002777-016519304334-UPI\", \"2025-07-09\", 2, \"OTHERS\", \"2164\"], [\"80824\", \"UPI-SUDHANVA MADHURAO RA-7760615177@YBL-HDFC0000877-019884154921-PAYMENT FROM PHONE\", \"2025-07-09\", 1, \"CARD_PAYMENT\", \"-78777\"], [\"80632\", \"UPI-OLA-OLAONLINE@YBL-YESB0YBLUPI-105086855192-PAYMENT FROM PHONE\", \"2025-07-09\", 1, \"CARD_PAYMENT\", \"-78244\"], [\"80291\", \"UPI-SWIGGY-SWIGGY8@YBL-YESB0YBLUPI-104139133337-PAYMENT FROM PHONE\", \"2025-07-09\", 2, \"CARD_PAYMENT\", \"2047\"], [\"80544\", \"UPI-DREAMPLUG TECHNOLOGI-CRED@AXISB-UTIB0000114-012016383521-CREDIT CARD BILL P\", \"2025-07-07\", 1, \"CARD_PAYMENT\", \"-70171\"], [\"80135\", \"UPI-MR PRATEEK PATNAIK-PATNAIK.PRATEEK@YBL-IDIB000S176-033939878475-PAYMENT FROM PHONE\", \"2025-07-07\", 2, \"ATM\", \"9964\"], [\"80652\", \"UPI-SUMAN  SWAROOP-SUMANSWAR12@OKSBI-SBIN0006652-006006641672-PETROL\", \"2025-07-07\", 1, \"CARD_PAYMENT\", \"-70566\"], [\"80939\", \"UPI-DREAMPLUG TECHNOLOGI-CRED@AXISB-UTIB0000114-009400741981-CREDIT CARD BILL P\", \"2025-07-07\", 2, \"CASH\", \"10373\"], [\"80657\", \"UPI-GIRRAJ MEDICAL STORE-PAYTMQR28100505010111A10BLF7BGA@PAYTM-PYTM0123456-033319425613-UPI\", \"2025-07-07\", 2, \"CARD_PAYMENT\", \"10086\"], [\"80772\", \"UPI-SPORTA TECHNOLOGIES -FANCODE.PAYU@INDUS-INDB0002201-036509119466-UPI TRANSACTION\", \"2025-07-07\", 1, \"CASH\", \"-70571\"], [\"80134\", \"UPI-SHANTI MANTRI-9652458674@YBL-SBIN0020380-101654249219-PAYMENT FROM PHONE\", \"2025-07-07\", 2, \"CASH\", \"10201\"], [\"80260\", \"UPI-HARDIK  AGRAWAL-HARDIK0406AGRAWAL@OKSBI-SBIN0030261-028317839465-SAVINGS\", \"2025-07-07\", 1, \"FT\", \"-69933\"], [\"80776\", \"UPI-FX MART PRIVATE LIMI-FXM@YBL-YESB0YBLUPI-010720599609-WALLET TOPUP\", \"2025-07-07\", 2, \"CARD_PAYMENT\", \"10327\"], [\"80163\", \"UPI-RAMA SUDHAKAR PATNAI-9414077884@YBL-SBIN0020702-104321119119-PAYMENT FROM PHONE\", \"2025-07-07\", 1, \"ATM\", \"-70449\"]]}, {\"bank\":\"IDFC Bank\", \"txns\":[[\"80273\", \"UPI-CRED-CRED@AXISB-UTIB0000114-104817335968-CREDIT CARD BILL P\", \"2025-07-09\", 1, \"FT\", \"-72209\"], [\"80430\", \"UPI-GET SIMPL TECHNOLOGI-SIMPL@AXISBANK-UTIB0000100-035714694623-SIMPL\", \"2025-07-09\", 2, \"ATM\", \"8221\"], [\"80063\", \"UPI-PINTU GUPTA-PAYTMQR281005050101LK22YFGX0QRX@PAYTM-PYTM0123456-127404613871-PAYMENT FROM PHONE\", \"2025-07-09\", 2, \"CARD_PAYMENT\", \"8064\"], [\"80422\", \"UPI-SRI GANESH FRUIT JUI-PAYTMQR2810050501011EQANBWQ4ZSL@PAYTM-PYTM0123456-036043230287-PAYMENT FROM PHONE\", \"2025-07-09\", 1, \"FT\", \"-71999\"], [\"80203\", \"UPI-PARSURAMPURAM SRINIV-6370242870@YBL-ORBC0101157-021633611931-PAYMENT FROM PHONE\", \"2025-07-09\", 1, \"OTHERS\", \"-72331\"], [\"80754\", \"IMPS-104311102929-SANDIP PATIL-CNRB-XXXXXXXXX7346-RENT\", \"2025-07-09\", 2, \"CASH\", \"8423\"], [\"80304\", \"CREDIT INTEREST CAPITALISED\", \"2025-07-09\", 1, \"CASH\", \"-72762\"], [\"80634\", \"UPI-FX MART PRIVATE LIMI-FXM@YBL-YESB0YBLUPI-010730656553-WALLET TOPUP\", \"2025-07-09\", 2, \"CARD_PAYMENT\", \"7872\"], [\"80952\", \"UPI-DENTIS ZONE MULTISPE-DENTISZONEMULTISPECI.28121798@HDFCBANK-HDFC0000001-106056416346-PAYMENT FROM PHONE\", \"2025-07-09\", 2, \"CASH\", \"7542\"], [\"80880\", \"UPI-PARSURAMPURAM SRINIV-PSS.PRASAD@YBL-PUNB0115710-104315466518-PAYMENT FROM PHONE\", \"2025-07-09\", 1, \"FT\", \"-73410\"]]}, {\"bank\":\"Union Bank\", \"txns\":[[\"80295\", \"UPI-OLA-OLAONLINE@YBL-YESB0YBLUPI-123674232023-PAYMENT FOR E54EEA\", \"2025-07-09\", 2, \"CARD_PAYMENT\", \"108514\"], [\"80135\", \"UPI-SAAPAAD-PAYTMQR28100505010117026OE8C6MV@PAYTM-PYTM0123456-021464993470-PAYMENT FROM PHONE\", \"2025-07-09\", 1, \"CASH\", \"28219\"], [\"80796\", \"UPI-SANGEETHA M-SANGEETHA28.SM@OKSBI-VIJB0001394-022418310954-UPI\", \"2025-07-09\", 2, \"CASH\", \"108354\"], [\"80015\", \".IMPS P2P 029117302320#17/10/2020 181020-MIR2030136992354\", \"2025-07-09\", 1, \"CARD_PAYMENT\", \"27558\"], [\"80205\", \"UPI-ANKUR DHIR-ANKURDHIR111@OKHDFCBANK-HDFC0001266-030110973590-UPI\", \"2025-07-09\", 1, \"ATM\", \"26638\"], [\"80935\", \"20201222147613830340/PAYTMPAYTMMONEYMUTUA\", \"2025-07-09\", 2, \"OTHERS\", \"107573\"], [\"80549\", \"UPI-NIRMALA-BHARATPE.9051441401@FBPE-FDRL0001382-101632969524-PAYMENT FROM PHONE\", \"2025-07-09\", 2, \"CASH\", \"106843\"], [\"80212\", \"UPI-RAMA SUDHAKAR PATNAI-9414077884@YBL-SBIN0020702-034066225154-PAYMENT FROM PHONE\", \"2025-07-09\", 1, \"CARD_PAYMENT\", \"26294\"], [\"80372\", \"UPI-UBER INDIA SYSTEMS P-UBERRIDES@HDFCBANK-HDFC0000499-105217478239-CHARGE\", \"2025-07-09\", 1, \"FT\", \"26004\"], [\"80502\", \"UPI-MD JAHANGIR-BHARATPE09892849123@YESBANKLTD-YESB0000105-102038302659-PAYMENT FROM PHONE\", \"2025-07-09\", 2, \"OTHERS\", \"106506\"], [\"80331\", \"50400204367581- RD INSTALLMENT-DEC 2020\", \"2025-06-27\", 2, \"ATM\", \"107340\"], [\"80030\", \"UPI-FX MART PRIVATE LIMI-FXM@YBL-YESB0YBLUPI-011456885597-WALLET TOPUP\", \"2025-06-27\", 1, \"CARD_PAYMENT\", \"27009\"], [\"80339\", \"UPI-DIVYA DAS-9686097437@YBL-HDFC0002777-012848830297-PAYMENT FROM PHONE\", \"2025-05-27\", 1, \"ATM\", \"26192\"], [\"80847\", \"UPI-RAJESH-PAYTMQR28100505010115KDL9E9P7TK@PAYTM-PYTM0123456-031624391996-PAYMENT FROM PHONE\", \"2025-05-27\", 2, \"ATM\", \"107039\"]]}]}\\n', annotations=None, meta=None)], structuredContent=None, isError=False)"
      ]
     },
     "execution_count": 35,
     "metadata": {},
     "output_type": "execute_result"
    }
   ],
   "source": [
    "await tools[0].run_async(args={}, tool_context=None)"
   ]
  },
  {
   "cell_type": "code",
   "execution_count": 23,
   "id": "923df7fb",
   "metadata": {},
   "outputs": [
    {
     "name": "stderr",
     "output_type": "stream",
     "text": [
      "Warning: Error during MCP session cleanup for session_no_headers: Attempted to exit cancel scope in a different task than it was entered in\n"
     ]
    }
   ],
   "source": [
    "await tool_set.close()"
   ]
  }
 ],
 "metadata": {
  "kernelspec": {
   "display_name": "Python 3 (ipykernel)",
   "language": "python",
   "name": "python3"
  },
  "language_info": {
   "codemirror_mode": {
    "name": "ipython",
    "version": 3
   },
   "file_extension": ".py",
   "mimetype": "text/x-python",
   "name": "python",
   "nbconvert_exporter": "python",
   "pygments_lexer": "ipython3",
   "version": "3.11.12"
  }
 },
 "nbformat": 4,
 "nbformat_minor": 5
}
