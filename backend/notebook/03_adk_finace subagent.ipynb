{
 "cells": [
  {
   "cell_type": "code",
   "execution_count": 55,
   "id": "5c2279b3",
   "metadata": {},
   "outputs": [],
   "source": [
    "from dotenv import load_dotenv\n",
    "import os\n",
    "load_dotenv()\n",
    "\n",
    "os.environ[\"GOOGLE_API_KEY\"] = os.getenv(\"GOOGLE_API_KEY\")"
   ]
  },
  {
   "cell_type": "code",
   "execution_count": 56,
   "id": "e48b2a5e",
   "metadata": {},
   "outputs": [],
   "source": [
    "# @title Define Agent Interaction Function\n",
    "\n",
    "from google.genai import types # For creating message Content/Parts\n",
    "\n",
    "async def call_agent_async(query: str, runner, user_id, session_id):\n",
    "  \"\"\"Sends a query to the agent and prints the final response.\"\"\"\n",
    "\n",
    "  # Prepare the user's message in ADK format\n",
    "  content = types.Content(role='user', parts=[types.Part(text=query)])\n",
    "\n",
    "  final_response_text = \"Agent did not produce a final response.\" # Default\n",
    "\n",
    "  # Key Concept: run_async executes the agent logic and yields Events.\n",
    "  # We iterate through events to find the final answer.\n",
    "  async for event in runner.run_async(user_id=user_id, session_id=session_id, new_message=content):\n",
    "      # You can uncomment the line below to see *all* events during execution\n",
    "      # print(f\"  [Event] Author: {event.author}, Type: {type(event).__name__}, Final: {event.is_final_response()}, Content: {event.content}\")\n",
    "\n",
    "      # Key Concept: is_final_response() marks the concluding message for the turn.\n",
    "      if event.is_final_response():\n",
    "          if event.content and event.content.parts:\n",
    "             # Assuming text response in the first part\n",
    "             final_response_text = event.content.parts[0].text\n",
    "          elif event.actions and event.actions.escalate: # Handle potential errors/escalations\n",
    "             final_response_text = f\"Agent escalated: {event.error_message or 'No specific message.'}\"\n",
    "          # Add more checks here if needed (e.g., specific error codes)\n",
    "          break # Stop processing events once the final response is found\n",
    "\n",
    "  print(f\"<<< Agent Response: {final_response_text}\")\n",
    "  return final_response_text"
   ]
  },
  {
   "cell_type": "code",
   "execution_count": 57,
   "id": "74e3e8f3",
   "metadata": {},
   "outputs": [],
   "source": [
    "Exp_Agent=ExpenseAndCashflowAgent(dal)\n",
    "Inv_Agent=InvestmentAnalystAgent(dal)\n",
    "Loan_Agent=LoanAndCreditAgent(dal)\n",
    "NetWorth_Agent=NetWorthAndHealthAgent(dal)\n",
    "\n",
    "\n",
    "# Create a separate tool list for each agent\n",
    "expense_tools = [Exp_Agent.get_spending_summary]\n",
    "investment_tools = [Inv_Agent.identify_underperforming_funds]\n",
    "loan_tools = [Loan_Agent.get_credit_score_analysis]\n",
    "networth_tools = [\n",
    "    NetWorth_Agent.get_asset_breakdown,\n",
    "    NetWorth_Agent.get_liability_breakdown,\n",
    "    NetWorth_Agent.get_net_worth_summary\n",
    "]\n"
   ]
  },
  {
   "cell_type": "code",
   "execution_count": 58,
   "id": "70a228ae",
   "metadata": {},
   "outputs": [
    {
     "data": {
      "text/plain": [
       "'Your credit score is 746, which is good. You have 4 accounts with delayed payment history (HDFC Bank, Aditya Brila Finance Limited, Epifi Capital, Mannapuram Finance), which may be impacting your score.'"
      ]
     },
     "execution_count": 58,
     "metadata": {},
     "output_type": "execute_result"
    }
   ],
   "source": [
    "Loan_Agent.get_credit_score_analysis()"
   ]
  },
  {
   "cell_type": "code",
   "execution_count": 59,
   "id": "917258f6",
   "metadata": {},
   "outputs": [
    {
     "name": "stdout",
     "output_type": "stream",
     "text": [
      "Session created: App='weather_tutorial_app', User='user_1', Session='session_001'\n"
     ]
    }
   ],
   "source": [
    "\n",
    "session_service = InMemorySessionService()\n",
    "\n",
    "# Define constants for identifying the interaction context\n",
    "APP_NAME = \"weather_tutorial_app\"\n",
    "USER_ID = \"user_1\"\n",
    "SESSION_ID = \"session_001\" # Using a fixed ID for simplicity\n",
    "\n",
    "# Create the specific session where the conversation will happen\n",
    "session = await session_service.create_session(\n",
    "    app_name=APP_NAME,\n",
    "    user_id=USER_ID,\n",
    "    session_id=SESSION_ID\n",
    ")\n",
    "print(f\"Session created: App='{APP_NAME}', User='{USER_ID}', Session='{SESSION_ID}'\")\n",
    "\n"
   ]
  },
  {
   "cell_type": "code",
   "execution_count": 67,
   "id": "7c3179e0",
   "metadata": {},
   "outputs": [
    {
     "name": "stdout",
     "output_type": "stream",
     "text": [
      "Runner created for agent 'Query_Decomposition_Agent'.\n"
     ]
    }
   ],
   "source": [
    "# Create four different agents, each with their respective tools\n",
    "\n",
    "model=\"gemini-2.0-flash\" #\"gemini-2.5-flash\" #\"gemini-2.5-pro\" # or \"gemini-2.5-flash\" for flash model\n",
    "expense_agent = Agent(\n",
    "    name=\"Expense_Agent\",\n",
    "    model=model,\n",
    "    description=\"Handles expense and cashflow queries.\",\n",
    "    tools=expense_tools\n",
    ")\n",
    "\n",
    "investment_agent = Agent(\n",
    "    name=\"Investment_Agent\",\n",
    "    model=model,\n",
    "    description=\"Handles investment analysis queries.\",\n",
    "    tools=investment_tools\n",
    ")\n",
    "\n",
    "loan_agent = Agent(\n",
    "    name=\"Loan_Agent\",\n",
    "    model=model,\n",
    "    description=\"Handles loan and credit queries.\",\n",
    "    tools=loan_tools\n",
    ")\n",
    "\n",
    "networth_agent = Agent(\n",
    "    name=\"NetWorth_Agent\",\n",
    "    model=model,\n",
    "    description=\"Handles net worth and financial health queries.\",\n",
    "    tools=networth_tools\n",
    ")\n",
    "\n",
    "\n",
    "query_decomposition_agent = Agent(\n",
    "    name=\"Query_Decomposition_Agent\",\n",
    "    model=model,\n",
    "    description=\"Handles query decomposition and delegates to sub-agents.\",\n",
    "    sub_agents=[\n",
    "        expense_agent,\n",
    "        investment_agent,\n",
    "        loan_agent,\n",
    "        networth_agent\n",
    "    ],\n",
    "    \n",
    ")\n",
    "# Key Concept: Runner orchestrates the agent execution loop.\n",
    "runner = Runner(\n",
    "    agent=query_decomposition_agent, # The agent we want to run\n",
    "    app_name=APP_NAME,   # Associates runs with our app\n",
    "    session_service=session_service # Uses our session manager\n",
    " \n",
    ")\n",
    "print(f\"Runner created for agent '{runner.agent.name}'.\")"
   ]
  },
  {
   "cell_type": "code",
   "execution_count": 70,
   "id": "c644a594",
   "metadata": {},
   "outputs": [
    {
     "name": "stderr",
     "output_type": "stream",
     "text": [
      "Default value is not supported in function declaration schema for Google AI.\n",
      "Warning: there are non-text parts in the response: ['function_call'], returning concatenated text result from text parts. Check the full candidates.content.parts accessor to get the full model response.\n",
      "Default value is not supported in function declaration schema for Google AI.\n"
     ]
    },
    {
     "name": "stdout",
     "output_type": "stream",
     "text": [
      "<<< Agent Response: Here is your spending breakdown for the last 30 days:\n",
      "- Miscellaneous: ₹1,690,773\n",
      "- Financial Services: ₹403,444\n",
      "- Bills & Utilities: ₹160,955\n",
      "- Transportation: ₹80,565\n",
      "- Food & Dining: ₹80,291\n",
      "\n",
      "Total spending: ₹2,416,028\n",
      "Number of transactions: 30\n",
      "\n"
     ]
    }
   ],
   "source": [
    "result= await call_agent_async(\"get my all assest and also all liabaity also provide my exprences of 30 dayys\",runner=runner,\n",
    "                                       user_id=USER_ID,\n",
    "                                       session_id=SESSION_ID)"
   ]
  },
  {
   "cell_type": "code",
   "execution_count": null,
   "id": "b94e5994",
   "metadata": {},
   "outputs": [],
   "source": []
  }
 ],
 "metadata": {
  "kernelspec": {
   "display_name": "venv",
   "language": "python",
   "name": "python3"
  },
  "language_info": {
   "codemirror_mode": {
    "name": "ipython",
    "version": 3
   },
   "file_extension": ".py",
   "mimetype": "text/x-python",
   "name": "python",
   "nbconvert_exporter": "python",
   "pygments_lexer": "ipython3",
   "version": "3.12.1"
  }
 },
 "nbformat": 4,
 "nbformat_minor": 5
}
